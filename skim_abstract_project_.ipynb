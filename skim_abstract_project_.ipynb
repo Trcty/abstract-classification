{
  "nbformat": 4,
  "nbformat_minor": 0,
  "metadata": {
    "colab": {
      "name": "skim abstract project .ipynb",
      "provenance": [],
      "collapsed_sections": [],
      "authorship_tag": "ABX9TyPnx8ZMm/UCcwJnfi/gBKFc",
      "include_colab_link": true
    },
    "kernelspec": {
      "name": "python3",
      "display_name": "Python 3"
    },
    "language_info": {
      "name": "python"
    },
    "accelerator": "GPU"
  },
  "cells": [
    {
      "cell_type": "markdown",
      "metadata": {
        "id": "view-in-github",
        "colab_type": "text"
      },
      "source": [
        "<a href=\"https://colab.research.google.com/github/Trcty/abstract-classification/blob/main/skim_abstract_project_.ipynb\" target=\"_parent\"><img src=\"https://colab.research.google.com/assets/colab-badge.svg\" alt=\"Open In Colab\"/></a>"
      ]
    },
    {
      "cell_type": "markdown",
      "source": [
        "# Helper functions\n",
        "\n"
      ],
      "metadata": {
        "id": "XjyQzwU1Ybym"
      }
    },
    {
      "cell_type": "code",
      "metadata": {
        "id": "2yjdhJxbbIhX"
      },
      "source": [
        "def get_lines(filename):\n",
        "  with open(filename, \"r\") as f:\n",
        "    return f.readlines()"
      ],
      "execution_count": 2,
      "outputs": []
    },
    {
      "cell_type": "code",
      "source": [
        "def split_chars(text):\n",
        "  return \" \".join(list(text))"
      ],
      "metadata": {
        "id": "Onag_Alu8EmM"
      },
      "execution_count": 3,
      "outputs": []
    },
    {
      "cell_type": "code",
      "source": [
        "def prep_text(filename):\n",
        "  input = get_lines(filename) \n",
        "  abstract_diction = [] \n",
        "  total=\"\".join(input).split(\"###\")\n",
        "  abstracts=list(filter(None, total))\n",
        "\n",
        "  for abstract in abstracts:\n",
        "    abstract_lines=abstract.splitlines()\n",
        "    abstract_lines=list(filter(None, abstract_lines))\n",
        "    for abstract_line_number, abstract_line in enumerate(abstract_lines[1:]):\n",
        "        line_data = {} \n",
        "        label_text_split = abstract_line.split(\"\\t\") \n",
        "        line_data[\"label\"] = label_text_split[0]\n",
        "        line_data[\"text\"] = label_text_split[1].lower() \n",
        "        line_data[\"line_number\"] = abstract_line_number+1 \n",
        "        line_data[\"total_lines\"] = len(abstract_lines) - 1\n",
        "        abstract_diction.append(line_data) \n",
        "  return abstract_diction"
      ],
      "metadata": {
        "id": "e10RzTcROeFG"
      },
      "execution_count": 4,
      "outputs": []
    },
    {
      "cell_type": "code",
      "source": [
        "from sklearn.metrics import accuracy_score, precision_recall_fscore_support\n",
        "def calculate_results(y_true, y_pred):\n",
        "  accuracy = accuracy_score(y_true, y_pred)\n",
        "  precision, recall, f1, _ = precision_recall_fscore_support(y_true, y_pred, average=\"weighted\")\n",
        "  results = {\"accuracy\": accuracy,\n",
        "                  \"precision\": precision,\n",
        "                  \"recall\": recall,\n",
        "                  \"f1\": f1}\n",
        "  return results"
      ],
      "metadata": {
        "id": "mipDtqUPavqZ"
      },
      "execution_count": 5,
      "outputs": []
    },
    {
      "cell_type": "code",
      "source": [
        "import matplotlib.pyplot as plt\n",
        "def plot_loss_curves(history):\n",
        "  loss = history.history['loss']\n",
        "  val_loss = history.history['val_loss']\n",
        "  accuracy = history.history['accuracy']\n",
        "  val_accuracy = history.history['val_accuracy']\n",
        "  epochs = range(len(history.history['loss']))\n",
        "  plt.plot(epochs, loss, label='training_loss')\n",
        "  plt.plot(epochs, val_loss, label='val_loss')\n",
        "  plt.title('Loss')\n",
        "  plt.xlabel('Epochs')\n",
        "  plt.legend()\n",
        "  plt.figure()\n",
        "  plt.plot(epochs, accuracy, label='training_accuracy')\n",
        "  plt.plot(epochs, val_accuracy, label='val_accuracy')\n",
        "  plt.title('Accuracy')\n",
        "  plt.xlabel('Epochs')\n",
        "  plt.legend();"
      ],
      "metadata": {
        "id": "ilvGbZeGvvvT"
      },
      "execution_count": 6,
      "outputs": []
    },
    {
      "cell_type": "markdown",
      "source": [
        "# Download and explore data"
      ],
      "metadata": {
        "id": "eGVXpdJRNMGj"
      }
    },
    {
      "cell_type": "code",
      "source": [
        "! git clone https://github.com/Franck-Dernoncourt/pubmed-rct.git"
      ],
      "metadata": {
        "colab": {
          "base_uri": "https://localhost:8080/"
        },
        "id": "7PdZRgPMZAev",
        "outputId": "c75ffd45-5542-4293-dd28-d5b248f5203a"
      },
      "execution_count": 7,
      "outputs": [
        {
          "output_type": "stream",
          "name": "stdout",
          "text": [
            "Cloning into 'pubmed-rct'...\n",
            "remote: Enumerating objects: 33, done.\u001b[K\n",
            "remote: Counting objects: 100% (3/3), done.\u001b[K\n",
            "remote: Compressing objects: 100% (3/3), done.\u001b[K\n",
            "remote: Total 33 (delta 0), reused 0 (delta 0), pack-reused 30\u001b[K\n",
            "Unpacking objects: 100% (33/33), done.\n"
          ]
        }
      ]
    },
    {
      "cell_type": "code",
      "source": [
        "!ls pubmed-rct/PubMed_20k_RCT"
      ],
      "metadata": {
        "colab": {
          "base_uri": "https://localhost:8080/"
        },
        "id": "F5dAgdTXZc8z",
        "outputId": "3159e0b2-4b7e-4fec-e48e-ca0b0918d826"
      },
      "execution_count": 8,
      "outputs": [
        {
          "output_type": "stream",
          "name": "stdout",
          "text": [
            "dev.txt  test.txt  train.txt\n"
          ]
        }
      ]
    },
    {
      "cell_type": "code",
      "source": [
        "data_20k=\"pubmed-rct/PubMed_20k_RCT\""
      ],
      "metadata": {
        "id": "Ql8RyGfAZwPi"
      },
      "execution_count": 9,
      "outputs": []
    },
    {
      "cell_type": "code",
      "source": [
        "import os\n",
        "filenames = [data_20k + '/'+ filename for filename in os.listdir(data_20k)]\n",
        "filenames"
      ],
      "metadata": {
        "colab": {
          "base_uri": "https://localhost:8080/"
        },
        "id": "n9h9jWgjadzX",
        "outputId": "0673f40e-d210-44d6-c554-af963d9e7d3a"
      },
      "execution_count": 10,
      "outputs": [
        {
          "output_type": "execute_result",
          "data": {
            "text/plain": [
              "['pubmed-rct/PubMed_20k_RCT/train.txt',\n",
              " 'pubmed-rct/PubMed_20k_RCT/dev.txt',\n",
              " 'pubmed-rct/PubMed_20k_RCT/test.txt']"
            ]
          },
          "metadata": {},
          "execution_count": 10
        }
      ]
    },
    {
      "cell_type": "code",
      "source": [
        "train_data=get_lines('pubmed-rct/PubMed_20k_RCT/train.txt')\n",
        "train_data[:30]"
      ],
      "metadata": {
        "colab": {
          "base_uri": "https://localhost:8080/"
        },
        "id": "hqHfmeZJcDTJ",
        "outputId": "3546a348-81fd-4945-98bd-b0f5b3f0b37b"
      },
      "execution_count": 11,
      "outputs": [
        {
          "output_type": "execute_result",
          "data": {
            "text/plain": [
              "['###24293578\\n',\n",
              " 'OBJECTIVE\\tTo investigate the efficacy of 6 weeks of daily low-dose oral prednisolone in improving pain , mobility , and systemic low-grade inflammation in the short term and whether the effect would be sustained at 12 weeks in older adults with moderate to severe knee osteoarthritis ( OA ) .\\n',\n",
              " 'METHODS\\tA total of 125 patients with primary knee OA were randomized 1:1 ; 63 received 7.5 mg/day of prednisolone and 62 received placebo for 6 weeks .\\n',\n",
              " 'METHODS\\tOutcome measures included pain reduction and improvement in function scores and systemic inflammation markers .\\n',\n",
              " 'METHODS\\tPain was assessed using the visual analog pain scale ( 0-100 mm ) .\\n',\n",
              " 'METHODS\\tSecondary outcome measures included the Western Ontario and McMaster Universities Osteoarthritis Index scores , patient global assessment ( PGA ) of the severity of knee OA , and 6-min walk distance ( 6MWD ) .\\n',\n",
              " 'METHODS\\tSerum levels of interleukin 1 ( IL-1 ) , IL-6 , tumor necrosis factor ( TNF ) - , and high-sensitivity C-reactive protein ( hsCRP ) were measured .\\n',\n",
              " 'RESULTS\\tThere was a clinically relevant reduction in the intervention group compared to the placebo group for knee pain , physical function , PGA , and 6MWD at 6 weeks .\\n',\n",
              " 'RESULTS\\tThe mean difference between treatment arms ( 95 % CI ) was 10.9 ( 4.8-18 .0 ) , p < 0.001 ; 9.5 ( 3.7-15 .4 ) , p < 0.05 ; 15.7 ( 5.3-26 .1 ) , p < 0.001 ; and 86.9 ( 29.8-144 .1 ) , p < 0.05 , respectively .\\n',\n",
              " 'RESULTS\\tFurther , there was a clinically relevant reduction in the serum levels of IL-1 , IL-6 , TNF - , and hsCRP at 6 weeks in the intervention group when compared to the placebo group .\\n',\n",
              " 'RESULTS\\tThese differences remained significant at 12 weeks .\\n',\n",
              " 'RESULTS\\tThe Outcome Measures in Rheumatology Clinical Trials-Osteoarthritis Research Society International responder rate was 65 % in the intervention group and 34 % in the placebo group ( p < 0.05 ) .\\n',\n",
              " 'CONCLUSIONS\\tLow-dose oral prednisolone had both a short-term and a longer sustained effect resulting in less knee pain , better physical function , and attenuation of systemic inflammation in older patients with knee OA ( ClinicalTrials.gov identifier NCT01619163 ) .\\n',\n",
              " '\\n',\n",
              " '###24854809\\n',\n",
              " 'BACKGROUND\\tEmotional eating is associated with overeating and the development of obesity .\\n',\n",
              " 'BACKGROUND\\tYet , empirical evidence for individual ( trait ) differences in emotional eating and cognitive mechanisms that contribute to eating during sad mood remain equivocal .\\n',\n",
              " 'OBJECTIVE\\tThe aim of this study was to test if attention bias for food moderates the effect of self-reported emotional eating during sad mood ( vs neutral mood ) on actual food intake .\\n',\n",
              " 'OBJECTIVE\\tIt was expected that emotional eating is predictive of elevated attention for food and higher food intake after an experimentally induced sad mood and that attentional maintenance on food predicts food intake during a sad versus a neutral mood .\\n',\n",
              " 'METHODS\\tParticipants ( N = 85 ) were randomly assigned to one of the two experimental mood induction conditions ( sad/neutral ) .\\n',\n",
              " 'METHODS\\tAttentional biases for high caloric foods were measured by eye tracking during a visual probe task with pictorial food and neutral stimuli .\\n',\n",
              " 'METHODS\\tSelf-reported emotional eating was assessed with the Dutch Eating Behavior Questionnaire ( DEBQ ) and ad libitum food intake was tested by a disguised food offer .\\n',\n",
              " 'RESULTS\\tHierarchical multivariate regression modeling showed that self-reported emotional eating did not account for changes in attention allocation for food or food intake in either condition .\\n',\n",
              " 'RESULTS\\tYet , attention maintenance on food cues was significantly related to increased intake specifically in the neutral condition , but not in the sad mood condition .\\n',\n",
              " 'CONCLUSIONS\\tThe current findings show that self-reported emotional eating ( based on the DEBQ ) might not validly predict who overeats when sad , at least not in a laboratory setting with healthy women .\\n',\n",
              " 'CONCLUSIONS\\tResults further suggest that attention maintenance on food relates to eating motivation when in a neutral affective state , and might therefore be a cognitive mechanism contributing to increased food intake in general , but maybe not during sad mood .\\n',\n",
              " '\\n',\n",
              " '###25165090\\n',\n",
              " 'BACKGROUND\\tAlthough working smoke alarms halve deaths in residential fires , many households do not keep alarms operational .\\n',\n",
              " 'BACKGROUND\\tWe tested whether theory-based education increases alarm operability .\\n']"
            ]
          },
          "metadata": {},
          "execution_count": 11
        }
      ]
    },
    {
      "cell_type": "code",
      "source": [
        "train=prep_text('pubmed-rct/PubMed_20k_RCT/train.txt')\n",
        "test=prep_text('pubmed-rct/PubMed_20k_RCT/test.txt')\n",
        "val=prep_text('pubmed-rct/PubMed_20k_RCT/dev.txt')"
      ],
      "metadata": {
        "id": "woBAJj0he2ZF"
      },
      "execution_count": 12,
      "outputs": []
    },
    {
      "cell_type": "code",
      "source": [
        "train[:3]"
      ],
      "metadata": {
        "colab": {
          "base_uri": "https://localhost:8080/"
        },
        "id": "zZ-uAwlDW0fy",
        "outputId": "e9c276a8-15f0-4762-8dec-ae02b6fb7d46"
      },
      "execution_count": 13,
      "outputs": [
        {
          "output_type": "execute_result",
          "data": {
            "text/plain": [
              "[{'label': 'OBJECTIVE',\n",
              "  'line_number': 1,\n",
              "  'text': 'to investigate the efficacy of 6 weeks of daily low-dose oral prednisolone in improving pain , mobility , and systemic low-grade inflammation in the short term and whether the effect would be sustained at 12 weeks in older adults with moderate to severe knee osteoarthritis ( oa ) .',\n",
              "  'total_lines': 12},\n",
              " {'label': 'METHODS',\n",
              "  'line_number': 2,\n",
              "  'text': 'a total of 125 patients with primary knee oa were randomized 1:1 ; 63 received 7.5 mg/day of prednisolone and 62 received placebo for 6 weeks .',\n",
              "  'total_lines': 12},\n",
              " {'label': 'METHODS',\n",
              "  'line_number': 3,\n",
              "  'text': 'outcome measures included pain reduction and improvement in function scores and systemic inflammation markers .',\n",
              "  'total_lines': 12}]"
            ]
          },
          "metadata": {},
          "execution_count": 13
        }
      ]
    },
    {
      "cell_type": "markdown",
      "source": [
        "# visualize data in dataframe and check summary statistics "
      ],
      "metadata": {
        "id": "5VZNQEgQbXbZ"
      }
    },
    {
      "cell_type": "code",
      "source": [
        "import pandas as pd\n",
        "train_df=pd.DataFrame(train)\n",
        "test_df=pd.DataFrame(test)\n",
        "val_df=pd.DataFrame(val)\n",
        "train_df.head(6)"
      ],
      "metadata": {
        "id": "PcwDv4usowxg",
        "colab": {
          "base_uri": "https://localhost:8080/",
          "height": 235
        },
        "outputId": "2cdea581-aebe-44f8-8fe8-c05e467e4ce8"
      },
      "execution_count": 14,
      "outputs": [
        {
          "output_type": "execute_result",
          "data": {
            "text/html": [
              "\n",
              "  <div id=\"df-da1d71ea-ae75-48b2-b811-e392c19b5bfc\">\n",
              "    <div class=\"colab-df-container\">\n",
              "      <div>\n",
              "<style scoped>\n",
              "    .dataframe tbody tr th:only-of-type {\n",
              "        vertical-align: middle;\n",
              "    }\n",
              "\n",
              "    .dataframe tbody tr th {\n",
              "        vertical-align: top;\n",
              "    }\n",
              "\n",
              "    .dataframe thead th {\n",
              "        text-align: right;\n",
              "    }\n",
              "</style>\n",
              "<table border=\"1\" class=\"dataframe\">\n",
              "  <thead>\n",
              "    <tr style=\"text-align: right;\">\n",
              "      <th></th>\n",
              "      <th>label</th>\n",
              "      <th>text</th>\n",
              "      <th>line_number</th>\n",
              "      <th>total_lines</th>\n",
              "    </tr>\n",
              "  </thead>\n",
              "  <tbody>\n",
              "    <tr>\n",
              "      <th>0</th>\n",
              "      <td>OBJECTIVE</td>\n",
              "      <td>to investigate the efficacy of 6 weeks of dail...</td>\n",
              "      <td>1</td>\n",
              "      <td>12</td>\n",
              "    </tr>\n",
              "    <tr>\n",
              "      <th>1</th>\n",
              "      <td>METHODS</td>\n",
              "      <td>a total of 125 patients with primary knee oa w...</td>\n",
              "      <td>2</td>\n",
              "      <td>12</td>\n",
              "    </tr>\n",
              "    <tr>\n",
              "      <th>2</th>\n",
              "      <td>METHODS</td>\n",
              "      <td>outcome measures included pain reduction and i...</td>\n",
              "      <td>3</td>\n",
              "      <td>12</td>\n",
              "    </tr>\n",
              "    <tr>\n",
              "      <th>3</th>\n",
              "      <td>METHODS</td>\n",
              "      <td>pain was assessed using the visual analog pain...</td>\n",
              "      <td>4</td>\n",
              "      <td>12</td>\n",
              "    </tr>\n",
              "    <tr>\n",
              "      <th>4</th>\n",
              "      <td>METHODS</td>\n",
              "      <td>secondary outcome measures included the wester...</td>\n",
              "      <td>5</td>\n",
              "      <td>12</td>\n",
              "    </tr>\n",
              "    <tr>\n",
              "      <th>5</th>\n",
              "      <td>METHODS</td>\n",
              "      <td>serum levels of interleukin 1 ( il-1 ) , il-6 ...</td>\n",
              "      <td>6</td>\n",
              "      <td>12</td>\n",
              "    </tr>\n",
              "  </tbody>\n",
              "</table>\n",
              "</div>\n",
              "      <button class=\"colab-df-convert\" onclick=\"convertToInteractive('df-da1d71ea-ae75-48b2-b811-e392c19b5bfc')\"\n",
              "              title=\"Convert this dataframe to an interactive table.\"\n",
              "              style=\"display:none;\">\n",
              "        \n",
              "  <svg xmlns=\"http://www.w3.org/2000/svg\" height=\"24px\"viewBox=\"0 0 24 24\"\n",
              "       width=\"24px\">\n",
              "    <path d=\"M0 0h24v24H0V0z\" fill=\"none\"/>\n",
              "    <path d=\"M18.56 5.44l.94 2.06.94-2.06 2.06-.94-2.06-.94-.94-2.06-.94 2.06-2.06.94zm-11 1L8.5 8.5l.94-2.06 2.06-.94-2.06-.94L8.5 2.5l-.94 2.06-2.06.94zm10 10l.94 2.06.94-2.06 2.06-.94-2.06-.94-.94-2.06-.94 2.06-2.06.94z\"/><path d=\"M17.41 7.96l-1.37-1.37c-.4-.4-.92-.59-1.43-.59-.52 0-1.04.2-1.43.59L10.3 9.45l-7.72 7.72c-.78.78-.78 2.05 0 2.83L4 21.41c.39.39.9.59 1.41.59.51 0 1.02-.2 1.41-.59l7.78-7.78 2.81-2.81c.8-.78.8-2.07 0-2.86zM5.41 20L4 18.59l7.72-7.72 1.47 1.35L5.41 20z\"/>\n",
              "  </svg>\n",
              "      </button>\n",
              "      \n",
              "  <style>\n",
              "    .colab-df-container {\n",
              "      display:flex;\n",
              "      flex-wrap:wrap;\n",
              "      gap: 12px;\n",
              "    }\n",
              "\n",
              "    .colab-df-convert {\n",
              "      background-color: #E8F0FE;\n",
              "      border: none;\n",
              "      border-radius: 50%;\n",
              "      cursor: pointer;\n",
              "      display: none;\n",
              "      fill: #1967D2;\n",
              "      height: 32px;\n",
              "      padding: 0 0 0 0;\n",
              "      width: 32px;\n",
              "    }\n",
              "\n",
              "    .colab-df-convert:hover {\n",
              "      background-color: #E2EBFA;\n",
              "      box-shadow: 0px 1px 2px rgba(60, 64, 67, 0.3), 0px 1px 3px 1px rgba(60, 64, 67, 0.15);\n",
              "      fill: #174EA6;\n",
              "    }\n",
              "\n",
              "    [theme=dark] .colab-df-convert {\n",
              "      background-color: #3B4455;\n",
              "      fill: #D2E3FC;\n",
              "    }\n",
              "\n",
              "    [theme=dark] .colab-df-convert:hover {\n",
              "      background-color: #434B5C;\n",
              "      box-shadow: 0px 1px 3px 1px rgba(0, 0, 0, 0.15);\n",
              "      filter: drop-shadow(0px 1px 2px rgba(0, 0, 0, 0.3));\n",
              "      fill: #FFFFFF;\n",
              "    }\n",
              "  </style>\n",
              "\n",
              "      <script>\n",
              "        const buttonEl =\n",
              "          document.querySelector('#df-da1d71ea-ae75-48b2-b811-e392c19b5bfc button.colab-df-convert');\n",
              "        buttonEl.style.display =\n",
              "          google.colab.kernel.accessAllowed ? 'block' : 'none';\n",
              "\n",
              "        async function convertToInteractive(key) {\n",
              "          const element = document.querySelector('#df-da1d71ea-ae75-48b2-b811-e392c19b5bfc');\n",
              "          const dataTable =\n",
              "            await google.colab.kernel.invokeFunction('convertToInteractive',\n",
              "                                                     [key], {});\n",
              "          if (!dataTable) return;\n",
              "\n",
              "          const docLinkHtml = 'Like what you see? Visit the ' +\n",
              "            '<a target=\"_blank\" href=https://colab.research.google.com/notebooks/data_table.ipynb>data table notebook</a>'\n",
              "            + ' to learn more about interactive tables.';\n",
              "          element.innerHTML = '';\n",
              "          dataTable['output_type'] = 'display_data';\n",
              "          await google.colab.output.renderOutput(dataTable, element);\n",
              "          const docLink = document.createElement('div');\n",
              "          docLink.innerHTML = docLinkHtml;\n",
              "          element.appendChild(docLink);\n",
              "        }\n",
              "      </script>\n",
              "    </div>\n",
              "  </div>\n",
              "  "
            ],
            "text/plain": [
              "       label  ... total_lines\n",
              "0  OBJECTIVE  ...          12\n",
              "1    METHODS  ...          12\n",
              "2    METHODS  ...          12\n",
              "3    METHODS  ...          12\n",
              "4    METHODS  ...          12\n",
              "5    METHODS  ...          12\n",
              "\n",
              "[6 rows x 4 columns]"
            ]
          },
          "metadata": {},
          "execution_count": 14
        }
      ]
    },
    {
      "cell_type": "markdown",
      "source": [
        "## Distribution of labels in train"
      ],
      "metadata": {
        "id": "7g9PQIf6cN63"
      }
    },
    {
      "cell_type": "code",
      "source": [
        "train_df['total_lines'].hist()"
      ],
      "metadata": {
        "colab": {
          "base_uri": "https://localhost:8080/",
          "height": 284
        },
        "id": "D9bQ1PGwpK0O",
        "outputId": "02200659-9231-4506-f2ca-2e6ffc00a0b4"
      },
      "execution_count": 15,
      "outputs": [
        {
          "output_type": "execute_result",
          "data": {
            "text/plain": [
              "<matplotlib.axes._subplots.AxesSubplot at 0x7f76b86182d0>"
            ]
          },
          "metadata": {},
          "execution_count": 15
        },
        {
          "output_type": "display_data",
          "data": {
            "image/png": "[encoded data removed]",
            "text/plain": [
              "<Figure size 432x288 with 1 Axes>"
            ]
          },
          "metadata": {
            "needs_background": "light"
          }
        }
      ]
    },
    {
      "cell_type": "markdown",
      "source": [
        "## max, mean sentence length in training data and 95 percentile"
      ],
      "metadata": {
        "id": "1j2oInjhcRD0"
      }
    },
    {
      "cell_type": "code",
      "source": [
        "train_sentences = train_df[\"text\"].tolist()\n",
        "val_sentences = val_df[\"text\"].tolist()\n",
        "test_sentences = test_df[\"text\"].tolist()\n",
        "len(train_sentences), len(test_sentences), len(val_sentences)"
      ],
      "metadata": {
        "colab": {
          "base_uri": "https://localhost:8080/"
        },
        "id": "vuVJv1y5dhyy",
        "outputId": "38fa2eca-1734-496d-c926-df17b89940c0"
      },
      "execution_count": 16,
      "outputs": [
        {
          "output_type": "execute_result",
          "data": {
            "text/plain": [
              "(180040, 30135, 30212)"
            ]
          },
          "metadata": {},
          "execution_count": 16
        }
      ]
    },
    {
      "cell_type": "code",
      "source": [
        "import numpy as np\n",
        "import matplotlib.pyplot as plt\n",
        "length=[len(i.split(' ')) for i in train_sentences]\n",
        "percentile=int(np.percentile(length, 95))\n",
        "max(length),np.mean(length),percentile"
      ],
      "metadata": {
        "colab": {
          "base_uri": "https://localhost:8080/"
        },
        "id": "6lx232D4sERj",
        "outputId": "44e42718-ad78-4b32-ef99-a17e4079a1bc"
      },
      "execution_count": 17,
      "outputs": [
        {
          "output_type": "execute_result",
          "data": {
            "text/plain": [
              "(296, 26.338435903132638, 55)"
            ]
          },
          "metadata": {},
          "execution_count": 17
        }
      ]
    },
    {
      "cell_type": "markdown",
      "source": [
        "# prepare data"
      ],
      "metadata": {
        "id": "FVeQA4UAqLx2"
      }
    },
    {
      "cell_type": "markdown",
      "source": [
        "## use onehotencoder"
      ],
      "metadata": {
        "id": "v9VdQdeKdBXQ"
      }
    },
    {
      "cell_type": "code",
      "source": [
        "from sklearn.preprocessing import OneHotEncoder\n",
        "encoder=OneHotEncoder(sparse=False)\n",
        "train_label=encoder.fit_transform(train_df['label'].to_numpy().reshape(-1,1))\n",
        "val_label=encoder.transform(val_df['label'].to_numpy().reshape(-1,1))\n",
        "test_label=encoder.transform(test_df['label'].to_numpy().reshape(-1,1))"
      ],
      "metadata": {
        "id": "FHxcPROMpNKV"
      },
      "execution_count": 18,
      "outputs": []
    },
    {
      "cell_type": "markdown",
      "source": [
        "## use labelencoder "
      ],
      "metadata": {
        "id": "8Vgdo1xKdGcc"
      }
    },
    {
      "cell_type": "code",
      "source": [
        "from sklearn.preprocessing import LabelEncoder\n",
        "label_encoder = LabelEncoder()\n",
        "train_labelencode = label_encoder.fit_transform(train_df[\"label\"].to_numpy())\n",
        "val_labelencode = label_encoder.transform(val_df[\"label\"].to_numpy())\n",
        "test_labelencode = label_encoder.transform(test_df[\"label\"].to_numpy())\n",
        "class_names = label_encoder.classes_\n",
        "class_names"
      ],
      "metadata": {
        "id": "nwNNz8bluxpR",
        "colab": {
          "base_uri": "https://localhost:8080/"
        },
        "outputId": "49082633-b021-4701-a547-11c04b3a71a9"
      },
      "execution_count": 19,
      "outputs": [
        {
          "output_type": "execute_result",
          "data": {
            "text/plain": [
              "array(['BACKGROUND', 'CONCLUSIONS', 'METHODS', 'OBJECTIVE', 'RESULTS'],\n",
              "      dtype=object)"
            ]
          },
          "metadata": {},
          "execution_count": 19
        }
      ]
    },
    {
      "cell_type": "markdown",
      "source": [
        "# baseline model (naive_bayes)"
      ],
      "metadata": {
        "id": "I1zwQ7g6soFN"
      }
    },
    {
      "cell_type": "code",
      "source": [
        "from sklearn.feature_extraction.text import TfidfVectorizer\n",
        "from sklearn.naive_bayes import MultinomialNB\n",
        "from sklearn.pipeline import Pipeline\n",
        "model_0 = Pipeline([\n",
        "  (\"tf-idf\", TfidfVectorizer()),\n",
        "  (\"clf\", MultinomialNB())\n",
        "])\n",
        "model_0.fit(X=train_sentences, \n",
        "            y=train_labelencode)"
      ],
      "metadata": {
        "colab": {
          "base_uri": "https://localhost:8080/"
        },
        "id": "dyEqXzZ2sU9e",
        "outputId": "c0034abe-14f0-4ca5-cdc6-75a892243b6b"
      },
      "execution_count": 20,
      "outputs": [
        {
          "output_type": "execute_result",
          "data": {
            "text/plain": [
              "Pipeline(steps=[('tf-idf', TfidfVectorizer()), ('clf', MultinomialNB())])"
            ]
          },
          "metadata": {},
          "execution_count": 20
        }
      ]
    },
    {
      "cell_type": "code",
      "source": [
        "model_0_result=calculate_results(val_labelencode,model_0.predict(val_sentences))\n",
        "model_0_result"
      ],
      "metadata": {
        "colab": {
          "base_uri": "https://localhost:8080/"
        },
        "id": "s-5EVTeltn6K",
        "outputId": "713cd71c-ffa9-4c18-e3fc-30e09abaabd3"
      },
      "execution_count": 21,
      "outputs": [
        {
          "output_type": "execute_result",
          "data": {
            "text/plain": [
              "{'accuracy': 0.7317291142592347,\n",
              " 'f1': 0.7058060715307974,\n",
              " 'precision': 0.7315166696974572,\n",
              " 'recall': 0.7317291142592347}"
            ]
          },
          "metadata": {},
          "execution_count": 21
        }
      ]
    },
    {
      "cell_type": "markdown",
      "source": [
        "# model 1:  Dense layer with custom token embedding"
      ],
      "metadata": {
        "id": "S1kra3z0pb3U"
      }
    },
    {
      "cell_type": "markdown",
      "source": [
        "## create vectorizor "
      ],
      "metadata": {
        "id": "0Byz3pBptUD5"
      }
    },
    {
      "cell_type": "code",
      "source": [
        "import numpy \n",
        "from tensorflow.keras.layers.experimental.preprocessing import TextVectorization\n",
        "max_vocab_size=68000\n",
        "vectorizer=TextVectorization(max_tokens=max_vocab_size,output_sequence_length=percentile)\n",
        "vectorizer.adapt(train_sentences)"
      ],
      "metadata": {
        "id": "pBtla3hkvApo"
      },
      "execution_count": 22,
      "outputs": []
    },
    {
      "cell_type": "code",
      "source": [
        "# view random sample sentence and its vectorized form \n",
        "import random\n",
        "sample=random.choice(train_sentences)\n",
        "vectorized_sample=vectorizer([sample])\n",
        "sample, len(sample.split()), vectorized_sample"
      ],
      "metadata": {
        "colab": {
          "base_uri": "https://localhost:8080/"
        },
        "id": "v-ESS_TFmTo5",
        "outputId": "80278b22-3336-4069-9dbd-85b08536f5f0"
      },
      "execution_count": 23,
      "outputs": [
        {
          "output_type": "execute_result",
          "data": {
            "text/plain": [
              "('inhalation of no and oxygen improved cto in ph. in multivariate regression analysis cto at maximal exercise predicted the work load achieved when controlled for age , pulmonary vascular resistance and mixed venous oxygen saturation ( r ( 2 ) = .419 , p < .000 ) ; in addition , the 6mwd was predicted by cto ( adjusted r ( 2 ) = .511 , p < .000 ) .',\n",
              " 71,\n",
              " <tf.Tensor: shape=(1, 55), dtype=int64, numpy=\n",
              " array([[2549,    4,   35,    3,  671,  182, 9791,    5, 1973,    5, 1109,\n",
              "          416,   87, 9791,   15, 1471,  188,  907,    2,  756, 1449,  496,\n",
              "          194,  112,   11,  107,  610,  825,  544,    3,  909, 1224,  671,\n",
              "         2404,  632,   32, 7478,   14, 2322,    5,  358,    2, 8638,   10,\n",
              "          907,   22, 9791,  444,  632,   32, 6310,   14, 2322,    0,    0]])>)"
            ]
          },
          "metadata": {},
          "execution_count": 23
        }
      ]
    },
    {
      "cell_type": "code",
      "source": [
        "all_vocab_in_train=vectorizer.get_vocabulary()"
      ],
      "metadata": {
        "id": "AtQv8pgEnzwL"
      },
      "execution_count": 24,
      "outputs": []
    },
    {
      "cell_type": "markdown",
      "source": [
        "## create custum embedding"
      ],
      "metadata": {
        "id": "91wboGgHtBVx"
      }
    },
    {
      "cell_type": "code",
      "source": [
        "\n",
        "from tensorflow.keras import layers\n",
        "embedding = layers.Embedding(input_dim=len(all_vocab_in_train), \n",
        "                             output_dim=128, \n",
        "                             mask_zero=True,\n",
        "                             name=\"custum_embedding\") "
      ],
      "metadata": {
        "id": "8R78TJNvobby"
      },
      "execution_count": 25,
      "outputs": []
    },
    {
      "cell_type": "code",
      "source": [
        "embedded_sample=embedding(vectorized_sample)\n",
        "embedded_sample"
      ],
      "metadata": {
        "colab": {
          "base_uri": "https://localhost:8080/"
        },
        "id": "8-qPK_4hp0rP",
        "outputId": "638f5380-af73-44a3-f110-01acbcede110"
      },
      "execution_count": 26,
      "outputs": [
        {
          "output_type": "execute_result",
          "data": {
            "text/plain": [
              "<tf.Tensor: shape=(1, 55, 128), dtype=float32, numpy=\n",
              "array([[[ 0.04733404,  0.02329589, -0.0395125 , ..., -0.03965784,\n",
              "         -0.01710117,  0.04891947],\n",
              "        [ 0.0342752 ,  0.02751504,  0.0211322 , ...,  0.03037309,\n",
              "          0.01850061, -0.00180948],\n",
              "        [ 0.04742518,  0.00649474, -0.02563961, ..., -0.01511499,\n",
              "          0.02907989, -0.02730842],\n",
              "        ...,\n",
              "        [ 0.01643297, -0.02050866,  0.01188149, ...,  0.0329575 ,\n",
              "          0.00119355, -0.0184075 ],\n",
              "        [-0.00882169,  0.04555294, -0.02196983, ..., -0.03847699,\n",
              "          0.03133491, -0.03872131],\n",
              "        [-0.00882169,  0.04555294, -0.02196983, ..., -0.03847699,\n",
              "          0.03133491, -0.03872131]]], dtype=float32)>"
            ]
          },
          "metadata": {},
          "execution_count": 26
        }
      ]
    },
    {
      "cell_type": "markdown",
      "source": [
        "## prepare dataset"
      ],
      "metadata": {
        "id": "UeKkldkItEbu"
      }
    },
    {
      "cell_type": "code",
      "source": [
        "import tensorflow as tf\n",
        "train_dataset = tf.data.Dataset.from_tensor_slices((train_sentences, train_label))\n",
        "valid_dataset = tf.data.Dataset.from_tensor_slices((val_sentences, val_label))\n",
        "test_dataset = tf.data.Dataset.from_tensor_slices((test_sentences, test_label))\n",
        "train_dataset = train_dataset.batch(32).prefetch(tf.data.AUTOTUNE)\n",
        "valid_dataset = valid_dataset.batch(32).prefetch(tf.data.AUTOTUNE)\n",
        "test_dataset = test_dataset.batch(32).prefetch(tf.data.AUTOTUNE)"
      ],
      "metadata": {
        "id": "QoWPXbI2qMez"
      },
      "execution_count": 27,
      "outputs": []
    },
    {
      "cell_type": "markdown",
      "source": [
        "## create and train the model"
      ],
      "metadata": {
        "id": "WxVu9Xantglm"
      }
    },
    {
      "cell_type": "code",
      "source": [
        "from tensorflow.python.keras import activations\n",
        "from tensorflow.python.keras.layers.core import Dropout\n",
        "model1=tf.keras.Sequential([\n",
        "   layers.Input((1,),dtype=tf.string),\n",
        "    vectorizer,\n",
        "    embedding,\n",
        "    layers.Dense(64, activation=\"relu\"),\n",
        "    layers.GlobalMaxPool1D(),\n",
        "    layers.Dense(5, activation=\"softmax\")\n",
        "])\n",
        "model1.compile(loss=\"categorical_crossentropy\",\n",
        "              optimizer=tf.keras.optimizers.Adam(),\n",
        "               metrics=['accuracy'])"
      ],
      "metadata": {
        "id": "WMLm11MrsSIN"
      },
      "execution_count": 28,
      "outputs": []
    },
    {
      "cell_type": "code",
      "source": [
        "history_model1=model1.fit(train_dataset,\n",
        "                          steps_per_epoch=int(0.3*len(train_dataset)),\n",
        "                          epochs=3,\n",
        "                          validation_data=valid_dataset,\n",
        "                          validation_steps=int(0.3*len(valid_dataset)))"
      ],
      "metadata": {
        "colab": {
          "base_uri": "https://localhost:8080/"
        },
        "id": "bXM2Z3pSts_6",
        "outputId": "b34270d8-0eac-4290-b485-ebd982fb163e"
      },
      "execution_count": 29,
      "outputs": [
        {
          "output_type": "stream",
          "name": "stdout",
          "text": [
            "Epoch 1/3\n",
            "1688/1688 [==============================] - 12s 6ms/step - loss: 0.6986 - accuracy: 0.7408 - val_loss: 0.5681 - val_accuracy: 0.7879\n",
            "Epoch 2/3\n",
            "1688/1688 [==============================] - 10s 6ms/step - loss: 0.5782 - accuracy: 0.7874 - val_loss: 0.5362 - val_accuracy: 0.7976\n",
            "Epoch 3/3\n",
            "1688/1688 [==============================] - 10s 6ms/step - loss: 0.5412 - accuracy: 0.8025 - val_loss: 0.5406 - val_accuracy: 0.8000\n"
          ]
        }
      ]
    },
    {
      "cell_type": "code",
      "source": [
        "model1.evaluate(valid_dataset)"
      ],
      "metadata": {
        "colab": {
          "base_uri": "https://localhost:8080/"
        },
        "id": "pG-JDcufvtwd",
        "outputId": "574ecef2-3a9f-4c84-b9cc-9758755a1953"
      },
      "execution_count": 30,
      "outputs": [
        {
          "output_type": "stream",
          "name": "stdout",
          "text": [
            "945/945 [==============================] - 3s 3ms/step - loss: 0.5432 - accuracy: 0.8004\n"
          ]
        },
        {
          "output_type": "execute_result",
          "data": {
            "text/plain": [
              "[0.5432484745979309, 0.8003773093223572]"
            ]
          },
          "metadata": {},
          "execution_count": 30
        }
      ]
    },
    {
      "cell_type": "code",
      "source": [
        "model1_predict=model1.predict(valid_dataset)\n",
        "model1_predict_result=tf.argmax(model1_predict,axis=1)\n",
        "model_1_result=calculate_results(val_labelencode, model1_predict_result)\n",
        "model_1_result"
      ],
      "metadata": {
        "colab": {
          "base_uri": "https://localhost:8080/"
        },
        "id": "PVDsVItVwNlb",
        "outputId": "a17c5342-1d54-4fd6-c089-069491badd35"
      },
      "execution_count": 31,
      "outputs": [
        {
          "output_type": "execute_result",
          "data": {
            "text/plain": [
              "{'accuracy': 0.8003773335098636,\n",
              " 'f1': 0.7942427252454866,\n",
              " 'precision': 0.8098633882549283,\n",
              " 'recall': 0.8003773335098636}"
            ]
          },
          "metadata": {},
          "execution_count": 31
        }
      ]
    },
    {
      "cell_type": "markdown",
      "source": [
        "# Model 2: use pretrained embedding layer (universal sentence encoder) "
      ],
      "metadata": {
        "id": "HEHxRwyOxFgC"
      }
    },
    {
      "cell_type": "code",
      "source": [
        "import tensorflow_hub as hub\n",
        "uni_sen_encoder = hub.KerasLayer(\"https://tfhub.dev/google/universal-sentence-encoder-large/5\",\n",
        "                                        trainable=False,\n",
        "                                        name=\"universal_sentence_encoder\")"
      ],
      "metadata": {
        "id": "RmmMWNMQxEv5"
      },
      "execution_count": 32,
      "outputs": []
    },
    {
      "cell_type": "code",
      "source": [
        "inputs = layers.Input(shape=[], dtype=tf.string)\n",
        "pretrained_embedding = uni_sen_encoder(inputs) \n",
        "x = layers.Dense(64, activation=\"relu\")(pretrained_embedding) \n",
        "outputs = layers.Dense(5, activation=\"softmax\")(x) \n",
        "model_2 = tf.keras.Model(inputs=inputs,outputs=outputs)\n",
        "model_2.compile(loss=\"categorical_crossentropy\",\n",
        "                optimizer=tf.keras.optimizers.Adam(),\n",
        "                metrics=[\"accuracy\"])"
      ],
      "metadata": {
        "id": "siAmKS0DxBtD"
      },
      "execution_count": 33,
      "outputs": []
    },
    {
      "cell_type": "code",
      "source": [
        "model_2.fit(train_dataset,\n",
        "            steps_per_epoch=int(0.3*len(train_dataset)),\n",
        "            epochs=3,\n",
        "            validation_data=valid_dataset,\n",
        "            validation_steps=int(0.3 * len(valid_dataset)))"
      ],
      "metadata": {
        "id": "70xP76X7slKz",
        "colab": {
          "base_uri": "https://localhost:8080/"
        },
        "outputId": "b404e289-d64a-440f-f1a0-ecc684dde81c"
      },
      "execution_count": 34,
      "outputs": [
        {
          "output_type": "stream",
          "name": "stdout",
          "text": [
            "Epoch 1/3\n",
            "1688/1688 [==============================] - 128s 62ms/step - loss: 0.7083 - accuracy: 0.7369 - val_loss: 0.6079 - val_accuracy: 0.7677\n",
            "Epoch 2/3\n",
            "1688/1688 [==============================] - 106s 63ms/step - loss: 0.6032 - accuracy: 0.7747 - val_loss: 0.5698 - val_accuracy: 0.7854\n",
            "Epoch 3/3\n",
            "1688/1688 [==============================] - 99s 58ms/step - loss: 0.5719 - accuracy: 0.7868 - val_loss: 0.5581 - val_accuracy: 0.7870\n"
          ]
        },
        {
          "output_type": "execute_result",
          "data": {
            "text/plain": [
              "<keras.callbacks.History at 0x7f76b639c5d0>"
            ]
          },
          "metadata": {},
          "execution_count": 34
        }
      ]
    },
    {
      "cell_type": "markdown",
      "source": [
        "## evaluation"
      ],
      "metadata": {
        "id": "wj6lUDbFEE7-"
      }
    },
    {
      "cell_type": "code",
      "source": [
        "model_2.evaluate(valid_dataset)"
      ],
      "metadata": {
        "colab": {
          "base_uri": "https://localhost:8080/"
        },
        "id": "mR9FKMZptITC",
        "outputId": "c4867543-1f10-48d1-bd10-7970cce48e1a"
      },
      "execution_count": 35,
      "outputs": [
        {
          "output_type": "stream",
          "name": "stdout",
          "text": [
            "945/945 [==============================] - 47s 49ms/step - loss: 0.5596 - accuracy: 0.7909\n"
          ]
        },
        {
          "output_type": "execute_result",
          "data": {
            "text/plain": [
              "[0.5595661997795105, 0.7908778190612793]"
            ]
          },
          "metadata": {},
          "execution_count": 35
        }
      ]
    },
    {
      "cell_type": "code",
      "source": [
        "model_2_predict=model_2.predict(valid_dataset)\n",
        "model_2_predict_result=tf.argmax(model_2_predict,axis=1)\n",
        "model_2_result=calculate_results(val_labelencode, model_2_predict_result)\n",
        "model_2_result"
      ],
      "metadata": {
        "colab": {
          "base_uri": "https://localhost:8080/"
        },
        "id": "7Jivf6Gv7bO2",
        "outputId": "ee62aa26-8af3-4594-ef4d-b83af5b79790"
      },
      "execution_count": 36,
      "outputs": [
        {
          "output_type": "execute_result",
          "data": {
            "text/plain": [
              "{'accuracy': 0.7908777969018933,\n",
              " 'f1': 0.7883905408382265,\n",
              " 'precision': 0.7949587195718553,\n",
              " 'recall': 0.7908777969018933}"
            ]
          },
          "metadata": {},
          "execution_count": 36
        }
      ]
    },
    {
      "cell_type": "markdown",
      "source": [
        "# model 3: combine pretrain embedding (universal embeding )with character embedding "
      ],
      "metadata": {
        "id": "Zl8V-1Lat99k"
      }
    },
    {
      "cell_type": "markdown",
      "source": [
        "## separate sentence into chars and get summary statistics "
      ],
      "metadata": {
        "id": "YwiRTWfh7-Sr"
      }
    },
    {
      "cell_type": "code",
      "source": [
        "split_chars(sample)"
      ],
      "metadata": {
        "colab": {
          "base_uri": "https://localhost:8080/",
          "height": 139
        },
        "id": "B6WnBnoWwrES",
        "outputId": "577f2428-3375-431f-90dd-e777a9787760"
      },
      "execution_count": 37,
      "outputs": [
        {
          "output_type": "execute_result",
          "data": {
            "application/vnd.google.colaboratory.intrinsic+json": {
              "type": "string"
            },
            "text/plain": [
              "'i n h a l a t i o n   o f   n o   a n d   o x y g e n   i m p r o v e d   c t o   i n   p h .   i n   m u l t i v a r i a t e   r e g r e s s i o n   a n a l y s i s   c t o   a t   m a x i m a l   e x e r c i s e   p r e d i c t e d   t h e   w o r k   l o a d   a c h i e v e d   w h e n   c o n t r o l l e d   f o r   a g e   ,   p u l m o n a r y   v a s c u l a r   r e s i s t a n c e   a n d   m i x e d   v e n o u s   o x y g e n   s a t u r a t i o n   (   r   (   2   )   =   . 4 1 9   ,   p   <   . 0 0 0   )   ;   i n   a d d i t i o n   ,   t h e   6 m w d   w a s   p r e d i c t e d   b y   c t o   (   a d j u s t e d   r   (   2   )   =   . 5 1 1   ,   p   <   . 0 0 0   )   .'"
            ]
          },
          "metadata": {},
          "execution_count": 37
        }
      ]
    },
    {
      "cell_type": "code",
      "source": [
        "train_char=[split_chars(i) for i in train_sentences]\n",
        "val_char=[split_chars(i) for i in val_sentences]\n",
        "test_char=[split_chars(i) for i in test_sentences]"
      ],
      "metadata": {
        "id": "DU35YUVlxB5v"
      },
      "execution_count": 38,
      "outputs": []
    },
    {
      "cell_type": "code",
      "source": [
        "char_len=[len(i) for i in train_sentences]\n",
        "char_percentile=int(np.percentile(char_len, 95))\n",
        "max(char_len), np.mean(char_len), char_percentile"
      ],
      "metadata": {
        "colab": {
          "base_uri": "https://localhost:8080/"
        },
        "id": "9IIDxN2qxVro",
        "outputId": "9e6d4ba2-afc9-40a8-e8c0-326ebb0d1792"
      },
      "execution_count": 39,
      "outputs": [
        {
          "output_type": "execute_result",
          "data": {
            "text/plain": [
              "(1454, 152.006276383026, 296)"
            ]
          },
          "metadata": {},
          "execution_count": 39
        }
      ]
    },
    {
      "cell_type": "markdown",
      "source": [
        "## get all types of characters"
      ],
      "metadata": {
        "id": "l1CSM58x9HwR"
      }
    },
    {
      "cell_type": "code",
      "source": [
        "import string\n",
        "all_char = string.ascii_lowercase + string.digits + string.punctuation\n",
        "all_char"
      ],
      "metadata": {
        "colab": {
          "base_uri": "https://localhost:8080/",
          "height": 37
        },
        "id": "lkkkhaktx4TU",
        "outputId": "c11a14a0-e2b0-4900-beb1-7b13946b2382"
      },
      "execution_count": 40,
      "outputs": [
        {
          "output_type": "execute_result",
          "data": {
            "application/vnd.google.colaboratory.intrinsic+json": {
              "type": "string"
            },
            "text/plain": [
              "'abcdefghijklmnopqrstuvwxyz0123456789!\"#$%&\\'()*+,-./:;<=>?@[\\\\]^_`{|}~'"
            ]
          },
          "metadata": {},
          "execution_count": 40
        }
      ]
    },
    {
      "cell_type": "markdown",
      "source": [
        "## create character level vectorizer "
      ],
      "metadata": {
        "id": "NbQMWQu09wDX"
      }
    },
    {
      "cell_type": "code",
      "source": [
        "char_tokens=len(all_char)+1  # plus space"
      ],
      "metadata": {
        "id": "N6jqgsbyyeho"
      },
      "execution_count": 41,
      "outputs": []
    },
    {
      "cell_type": "code",
      "source": [
        "char_vectorizor=TextVectorization(max_tokens=char_tokens,output_sequence_length=296, name=\"char_vectorizor\")\n",
        "char_vectorizor.adapt(train_char)"
      ],
      "metadata": {
        "id": "lznaifMPyj2Y"
      },
      "execution_count": 42,
      "outputs": []
    },
    {
      "cell_type": "code",
      "source": [
        "char_vocab=char_vectorizor.get_vocabulary()"
      ],
      "metadata": {
        "id": "-BV_8e_uyz0z"
      },
      "execution_count": 43,
      "outputs": []
    },
    {
      "cell_type": "code",
      "source": [
        "# view random  sentence in charaters and its vectorized form \n",
        "random_train_char=random.choice(train_char)\n",
        "random_train_char, char_vectorizor([random_train_char])"
      ],
      "metadata": {
        "colab": {
          "base_uri": "https://localhost:8080/"
        },
        "id": "pWLLcuq5y6mV",
        "outputId": "72efacf6-f2d8-4c9a-dba6-82d95fdf262c"
      },
      "execution_count": 44,
      "outputs": [
        {
          "output_type": "execute_result",
          "data": {
            "text/plain": [
              "('t h i s   s t u d y   w a s   a   p r o s p e c t i v e   ,   r a n d o m i z e d   ,   m o n o c e n t r e   ,   c o n t r o l l e d   e x p l o r a t i v e   i n t e r v e n t i o n   t r i a l   t o   d e t e r m i n e   t h e   m u l t i d i m e n s i o n a l   e f f e c t s   o f   e x e r c i s e s   f o r   s t r e n g t h e n i n g   t h e   p a r a v e r t e b r a l   m u s c l e s   .',\n",
              " <tf.Tensor: shape=(1, 296), dtype=int64, numpy=\n",
              " array([[ 3, 13,  4,  9,  9,  3, 16, 10, 19, 20,  5,  9,  5, 14,  8,  7,\n",
              "          9, 14,  2, 11,  3,  4, 21,  2,  8,  5,  6, 10,  7, 15,  4, 35,\n",
              "          2, 10, 15,  7,  6,  7, 11,  2,  6,  3,  8,  2, 11,  7,  6,  3,\n",
              "          8,  7, 12, 12,  2, 10,  2, 30, 14, 12,  7,  8,  5,  3,  4, 21,\n",
              "          2,  4,  6,  3,  2,  8, 21,  2,  6,  3,  4,  7,  6,  3,  8,  4,\n",
              "          5, 12,  3,  7, 10,  2,  3,  2,  8, 15,  4,  6,  2,  3, 13,  2,\n",
              "         15, 16, 12,  3,  4, 10,  4, 15,  2,  6,  9,  4,  7,  6,  5, 12,\n",
              "          2, 17, 17,  2, 11,  3,  9,  7, 17,  2, 30,  2,  8, 11,  4,  9,\n",
              "          2,  9, 17,  7,  8,  9,  3,  8,  2,  6, 18,  3, 13,  2,  6,  4,\n",
              "          6, 18,  3, 13,  2, 14,  5,  8,  5, 21,  2,  8,  3,  2, 22,  8,\n",
              "          5, 12, 15, 16,  9, 11, 12,  2,  9,  0,  0,  0,  0,  0,  0,  0,\n",
              "          0,  0,  0,  0,  0,  0,  0,  0,  0,  0,  0,  0,  0,  0,  0,  0,\n",
              "          0,  0,  0,  0,  0,  0,  0,  0,  0,  0,  0,  0,  0,  0,  0,  0,\n",
              "          0,  0,  0,  0,  0,  0,  0,  0,  0,  0,  0,  0,  0,  0,  0,  0,\n",
              "          0,  0,  0,  0,  0,  0,  0,  0,  0,  0,  0,  0,  0,  0,  0,  0,\n",
              "          0,  0,  0,  0,  0,  0,  0,  0,  0,  0,  0,  0,  0,  0,  0,  0,\n",
              "          0,  0,  0,  0,  0,  0,  0,  0,  0,  0,  0,  0,  0,  0,  0,  0,\n",
              "          0,  0,  0,  0,  0,  0,  0,  0,  0,  0,  0,  0,  0,  0,  0,  0,\n",
              "          0,  0,  0,  0,  0,  0,  0,  0]])>)"
            ]
          },
          "metadata": {},
          "execution_count": 44
        }
      ]
    },
    {
      "cell_type": "markdown",
      "source": [
        "## character level embedding"
      ],
      "metadata": {
        "id": "hTmNd-s1-lCQ"
      }
    },
    {
      "cell_type": "code",
      "source": [
        "char_embedding=layers.Embedding(input_dim=len(char_vocab),output_dim=25,mask_zero=True,name=\"char_embedding\")"
      ],
      "metadata": {
        "id": "ohiu9KHcz5GW"
      },
      "execution_count": 45,
      "outputs": []
    },
    {
      "cell_type": "markdown",
      "source": [
        "## build the model"
      ],
      "metadata": {
        "id": "k0zD_gVl_BQS"
      }
    },
    {
      "cell_type": "code",
      "source": [
        "# word level model\n",
        "word_input=layers.Input([],dtype=tf.string, name=\"word_input\")\n",
        "word_embedding=uni_sen_encoder(word_input)\n",
        "word_output=layers.Dense(64, activation=\"relu\")(word_embedding)\n",
        "word_model=tf.keras.Model(word_input, word_output)"
      ],
      "metadata": {
        "id": "ubpQjjdu_DRc"
      },
      "execution_count": 46,
      "outputs": []
    },
    {
      "cell_type": "code",
      "source": [
        "# character level model\n",
        "char_input=layers.Input([],dtype=tf.string, name=\"char_input\")\n",
        "char_vector=char_vectorizor(char_input)\n",
        "char_embedding_layer=char_embedding(char_vector)\n",
        "char_dense=layers.Dense(64, activation=\"relu\")(char_embedding_layer)\n",
        "char_output=layers.GlobalMaxPool1D()(char_dense)\n",
        "char_model=tf.keras.Model(char_input, char_output)"
      ],
      "metadata": {
        "id": "TshMmzk4_o9q"
      },
      "execution_count": 47,
      "outputs": []
    },
    {
      "cell_type": "code",
      "source": [
        "# concatenate word and char input \n",
        "concat=layers.Concatenate(name=\"concate\")([word_model.output,char_model.output])\n",
        "drop=layers.Dropout(0.5)(concat)\n",
        "dense=layers.Dense(64, activation=\"relu\")(drop)\n",
        "drop2=layers.Dropout(0.5)(dense)\n",
        "output_layer=layers.Dense(5, activation=\"softmax\")(drop2)\n",
        "model_3=tf.keras.Model(inputs=[word_model.input, char_model.input\n",
        "                        ],outputs=output_layer)"
      ],
      "metadata": {
        "id": "65wdthIaAbXi"
      },
      "execution_count": 48,
      "outputs": []
    },
    {
      "cell_type": "code",
      "source": [
        "model_3.compile(loss=\"categorical_crossentropy\",\n",
        "                optimizer=tf.keras.optimizers.Adam(),\n",
        "                metrics=[\"accuracy\"])"
      ],
      "metadata": {
        "id": "8R8Gwor8B_QW"
      },
      "execution_count": 49,
      "outputs": []
    },
    {
      "cell_type": "markdown",
      "source": [
        "## visualize structure of the model"
      ],
      "metadata": {
        "id": "GR1l2fmEB3B4"
      }
    },
    {
      "cell_type": "code",
      "source": [
        "from tensorflow.keras.utils import plot_model\n",
        "plot_model(model_3,show_shapes=True)"
      ],
      "metadata": {
        "colab": {
          "base_uri": "https://localhost:8080/",
          "height": 836
        },
        "id": "RY1tH7RRBs7d",
        "outputId": "5ed4f48d-33e4-4c50-be4c-faa3a6625c98"
      },
      "execution_count": 50,
      "outputs": [
        {
          "output_type": "execute_result",
          "data": {
            "image/png": "[encoded data removed]",
            "text/plain": [
              "<IPython.core.display.Image object>"
            ]
          },
          "metadata": {},
          "execution_count": 50
        }
      ]
    },
    {
      "cell_type": "markdown",
      "source": [
        "## create appropriate data input"
      ],
      "metadata": {
        "id": "pOaZSI8rCHVA"
      }
    },
    {
      "cell_type": "code",
      "source": [
        "train_word_char_data = tf.data.Dataset.from_tensor_slices((train_sentences, train_char)) \n",
        "train_word_char_labels = tf.data.Dataset.from_tensor_slices(train_label) \n",
        "train_word_char_dataset = tf.data.Dataset.zip((train_word_char_data , train_word_char_labels)) \n",
        "train_word_char_dataset = train_word_char_dataset.batch(32).prefetch(tf.data.AUTOTUNE) \n",
        "\n",
        "\n",
        "val_word_char_data = tf.data.Dataset.from_tensor_slices((val_sentences, val_char))\n",
        "val_word_char_labels = tf.data.Dataset.from_tensor_slices(val_label)\n",
        "val_word_char_dataset = tf.data.Dataset.zip((val_word_char_data, val_word_char_labels))\n",
        "val_word_char_dataset = val_word_char_dataset.batch(32).prefetch(tf.data.AUTOTUNE)"
      ],
      "metadata": {
        "id": "VOiYDGobCLij"
      },
      "execution_count": 51,
      "outputs": []
    },
    {
      "cell_type": "markdown",
      "source": [
        "## fit and evaluation"
      ],
      "metadata": {
        "id": "laN7Fnh3ZblB"
      }
    },
    {
      "cell_type": "code",
      "source": [
        "model_3_history = model_3.fit(train_word_char_dataset, \n",
        "                              steps_per_epoch=int(0.3 * len(train_word_char_dataset)),\n",
        "                              epochs=3,\n",
        "                              validation_data=val_word_char_dataset,\n",
        "                              validation_steps=int(0.3 * len(val_word_char_dataset)))"
      ],
      "metadata": {
        "colab": {
          "base_uri": "https://localhost:8080/"
        },
        "id": "LJyw2FqsApHU",
        "outputId": "216b1889-7ae5-43a4-a109-61c88b8e17bc"
      },
      "execution_count": 52,
      "outputs": [
        {
          "output_type": "stream",
          "name": "stdout",
          "text": [
            "Epoch 1/3\n",
            "1688/1688 [==============================] - 117s 64ms/step - loss: 0.8150 - accuracy: 0.6867 - val_loss: 0.6065 - val_accuracy: 0.7672\n",
            "Epoch 2/3\n",
            "1688/1688 [==============================] - 103s 61ms/step - loss: 0.6784 - accuracy: 0.7520 - val_loss: 0.5676 - val_accuracy: 0.7858\n",
            "Epoch 3/3\n",
            "1688/1688 [==============================] - 104s 61ms/step - loss: 0.6493 - accuracy: 0.7626 - val_loss: 0.5548 - val_accuracy: 0.7899\n"
          ]
        }
      ]
    },
    {
      "cell_type": "code",
      "source": [
        "model_3.evaluate(val_word_char_dataset)"
      ],
      "metadata": {
        "colab": {
          "base_uri": "https://localhost:8080/"
        },
        "id": "6bWOZLxJBpwG",
        "outputId": "6886f0a2-5513-4d1d-a87c-adecb783efca"
      },
      "execution_count": 53,
      "outputs": [
        {
          "output_type": "stream",
          "name": "stdout",
          "text": [
            "945/945 [==============================] - 48s 51ms/step - loss: 0.5579 - accuracy: 0.7910\n"
          ]
        },
        {
          "output_type": "execute_result",
          "data": {
            "text/plain": [
              "[0.5578782558441162, 0.7910102009773254]"
            ]
          },
          "metadata": {},
          "execution_count": 53
        }
      ]
    },
    {
      "cell_type": "code",
      "source": [
        "model_3_predict=model_3.predict(val_word_char_dataset)\n",
        "model_3_predict_result=tf.argmax(model_3_predict,axis=1)\n",
        "model_3_result=calculate_results(val_labelencode, model_3_predict_result)\n",
        "model_3_result"
      ],
      "metadata": {
        "colab": {
          "base_uri": "https://localhost:8080/"
        },
        "id": "evspjRgqZi1X",
        "outputId": "30f1df12-0f43-43f8-fc5c-cfde5dca9099"
      },
      "execution_count": 54,
      "outputs": [
        {
          "output_type": "execute_result",
          "data": {
            "text/plain": [
              "{'accuracy': 0.7910101946246525,\n",
              " 'f1': 0.7877569932655,\n",
              " 'precision': 0.7920491344251467,\n",
              " 'recall': 0.7910101946246525}"
            ]
          },
          "metadata": {},
          "execution_count": 54
        }
      ]
    },
    {
      "cell_type": "markdown",
      "source": [
        "# model 4: model 3 + positional layer \n"
      ],
      "metadata": {
        "id": "wl32OnJ1WVuW"
      }
    },
    {
      "cell_type": "markdown",
      "source": [
        "## get 95 percentile for line_number and total_line"
      ],
      "metadata": {
        "id": "ltIuM7RMJhLd"
      }
    },
    {
      "cell_type": "code",
      "source": [
        "train_df.head()"
      ],
      "metadata": {
        "colab": {
          "base_uri": "https://localhost:8080/",
          "height": 204
        },
        "id": "r4_CihyjIiMm",
        "outputId": "99a5caad-14db-4c54-a4e3-4fe01662e2cb"
      },
      "execution_count": 55,
      "outputs": [
        {
          "output_type": "execute_result",
          "data": {
            "text/html": [
              "\n",
              "  <div id=\"df-d559e345-05e2-49df-82d9-04c904464043\">\n",
              "    <div class=\"colab-df-container\">\n",
              "      <div>\n",
              "<style scoped>\n",
              "    .dataframe tbody tr th:only-of-type {\n",
              "        vertical-align: middle;\n",
              "    }\n",
              "\n",
              "    .dataframe tbody tr th {\n",
              "        vertical-align: top;\n",
              "    }\n",
              "\n",
              "    .dataframe thead th {\n",
              "        text-align: right;\n",
              "    }\n",
              "</style>\n",
              "<table border=\"1\" class=\"dataframe\">\n",
              "  <thead>\n",
              "    <tr style=\"text-align: right;\">\n",
              "      <th></th>\n",
              "      <th>label</th>\n",
              "      <th>text</th>\n",
              "      <th>line_number</th>\n",
              "      <th>total_lines</th>\n",
              "    </tr>\n",
              "  </thead>\n",
              "  <tbody>\n",
              "    <tr>\n",
              "      <th>0</th>\n",
              "      <td>OBJECTIVE</td>\n",
              "      <td>to investigate the efficacy of 6 weeks of dail...</td>\n",
              "      <td>1</td>\n",
              "      <td>12</td>\n",
              "    </tr>\n",
              "    <tr>\n",
              "      <th>1</th>\n",
              "      <td>METHODS</td>\n",
              "      <td>a total of 125 patients with primary knee oa w...</td>\n",
              "      <td>2</td>\n",
              "      <td>12</td>\n",
              "    </tr>\n",
              "    <tr>\n",
              "      <th>2</th>\n",
              "      <td>METHODS</td>\n",
              "      <td>outcome measures included pain reduction and i...</td>\n",
              "      <td>3</td>\n",
              "      <td>12</td>\n",
              "    </tr>\n",
              "    <tr>\n",
              "      <th>3</th>\n",
              "      <td>METHODS</td>\n",
              "      <td>pain was assessed using the visual analog pain...</td>\n",
              "      <td>4</td>\n",
              "      <td>12</td>\n",
              "    </tr>\n",
              "    <tr>\n",
              "      <th>4</th>\n",
              "      <td>METHODS</td>\n",
              "      <td>secondary outcome measures included the wester...</td>\n",
              "      <td>5</td>\n",
              "      <td>12</td>\n",
              "    </tr>\n",
              "  </tbody>\n",
              "</table>\n",
              "</div>\n",
              "      <button class=\"colab-df-convert\" onclick=\"convertToInteractive('df-d559e345-05e2-49df-82d9-04c904464043')\"\n",
              "              title=\"Convert this dataframe to an interactive table.\"\n",
              "              style=\"display:none;\">\n",
              "        \n",
              "  <svg xmlns=\"http://www.w3.org/2000/svg\" height=\"24px\"viewBox=\"0 0 24 24\"\n",
              "       width=\"24px\">\n",
              "    <path d=\"M0 0h24v24H0V0z\" fill=\"none\"/>\n",
              "    <path d=\"M18.56 5.44l.94 2.06.94-2.06 2.06-.94-2.06-.94-.94-2.06-.94 2.06-2.06.94zm-11 1L8.5 8.5l.94-2.06 2.06-.94-2.06-.94L8.5 2.5l-.94 2.06-2.06.94zm10 10l.94 2.06.94-2.06 2.06-.94-2.06-.94-.94-2.06-.94 2.06-2.06.94z\"/><path d=\"M17.41 7.96l-1.37-1.37c-.4-.4-.92-.59-1.43-.59-.52 0-1.04.2-1.43.59L10.3 9.45l-7.72 7.72c-.78.78-.78 2.05 0 2.83L4 21.41c.39.39.9.59 1.41.59.51 0 1.02-.2 1.41-.59l7.78-7.78 2.81-2.81c.8-.78.8-2.07 0-2.86zM5.41 20L4 18.59l7.72-7.72 1.47 1.35L5.41 20z\"/>\n",
              "  </svg>\n",
              "      </button>\n",
              "      \n",
              "  <style>\n",
              "    .colab-df-container {\n",
              "      display:flex;\n",
              "      flex-wrap:wrap;\n",
              "      gap: 12px;\n",
              "    }\n",
              "\n",
              "    .colab-df-convert {\n",
              "      background-color: #E8F0FE;\n",
              "      border: none;\n",
              "      border-radius: 50%;\n",
              "      cursor: pointer;\n",
              "      display: none;\n",
              "      fill: #1967D2;\n",
              "      height: 32px;\n",
              "      padding: 0 0 0 0;\n",
              "      width: 32px;\n",
              "    }\n",
              "\n",
              "    .colab-df-convert:hover {\n",
              "      background-color: #E2EBFA;\n",
              "      box-shadow: 0px 1px 2px rgba(60, 64, 67, 0.3), 0px 1px 3px 1px rgba(60, 64, 67, 0.15);\n",
              "      fill: #174EA6;\n",
              "    }\n",
              "\n",
              "    [theme=dark] .colab-df-convert {\n",
              "      background-color: #3B4455;\n",
              "      fill: #D2E3FC;\n",
              "    }\n",
              "\n",
              "    [theme=dark] .colab-df-convert:hover {\n",
              "      background-color: #434B5C;\n",
              "      box-shadow: 0px 1px 3px 1px rgba(0, 0, 0, 0.15);\n",
              "      filter: drop-shadow(0px 1px 2px rgba(0, 0, 0, 0.3));\n",
              "      fill: #FFFFFF;\n",
              "    }\n",
              "  </style>\n",
              "\n",
              "      <script>\n",
              "        const buttonEl =\n",
              "          document.querySelector('#df-d559e345-05e2-49df-82d9-04c904464043 button.colab-df-convert');\n",
              "        buttonEl.style.display =\n",
              "          google.colab.kernel.accessAllowed ? 'block' : 'none';\n",
              "\n",
              "        async function convertToInteractive(key) {\n",
              "          const element = document.querySelector('#df-d559e345-05e2-49df-82d9-04c904464043');\n",
              "          const dataTable =\n",
              "            await google.colab.kernel.invokeFunction('convertToInteractive',\n",
              "                                                     [key], {});\n",
              "          if (!dataTable) return;\n",
              "\n",
              "          const docLinkHtml = 'Like what you see? Visit the ' +\n",
              "            '<a target=\"_blank\" href=https://colab.research.google.com/notebooks/data_table.ipynb>data table notebook</a>'\n",
              "            + ' to learn more about interactive tables.';\n",
              "          element.innerHTML = '';\n",
              "          dataTable['output_type'] = 'display_data';\n",
              "          await google.colab.output.renderOutput(dataTable, element);\n",
              "          const docLink = document.createElement('div');\n",
              "          docLink.innerHTML = docLinkHtml;\n",
              "          element.appendChild(docLink);\n",
              "        }\n",
              "      </script>\n",
              "    </div>\n",
              "  </div>\n",
              "  "
            ],
            "text/plain": [
              "       label  ... total_lines\n",
              "0  OBJECTIVE  ...          12\n",
              "1    METHODS  ...          12\n",
              "2    METHODS  ...          12\n",
              "3    METHODS  ...          12\n",
              "4    METHODS  ...          12\n",
              "\n",
              "[5 rows x 4 columns]"
            ]
          },
          "metadata": {},
          "execution_count": 55
        }
      ]
    },
    {
      "cell_type": "code",
      "source": [
        "line_number_percentile=int(np.percentile(train_df.line_number, 95))\n",
        "line_number_percentile"
      ],
      "metadata": {
        "colab": {
          "base_uri": "https://localhost:8080/"
        },
        "id": "UIbya5CtIxJv",
        "outputId": "43ca388c-8abb-47ec-a494-ec91bada6edf"
      },
      "execution_count": 56,
      "outputs": [
        {
          "output_type": "execute_result",
          "data": {
            "text/plain": [
              "14"
            ]
          },
          "metadata": {},
          "execution_count": 56
        }
      ]
    },
    {
      "cell_type": "code",
      "source": [
        "total_line_percentile=int(np.percentile(train_df.total_lines, 95))\n",
        "total_line_percentile"
      ],
      "metadata": {
        "colab": {
          "base_uri": "https://localhost:8080/"
        },
        "id": "wlS2YhyfI0-g",
        "outputId": "54b26f7e-d33b-477e-b47f-776e4026ca09"
      },
      "execution_count": 57,
      "outputs": [
        {
          "output_type": "execute_result",
          "data": {
            "text/plain": [
              "19"
            ]
          },
          "metadata": {},
          "execution_count": 57
        }
      ]
    },
    {
      "cell_type": "code",
      "source": [
        "train_line_numbers=tf.one_hot(train_df.line_number.to_numpy(),depth=14)\n",
        "val_line_numbers=tf.one_hot(val_df.line_number.to_numpy(),depth=14)"
      ],
      "metadata": {
        "id": "rt1Sr3Y7YKGO"
      },
      "execution_count": 58,
      "outputs": []
    },
    {
      "cell_type": "code",
      "source": [
        "train_total_line=tf.one_hot(train_df.total_lines.to_numpy(),depth=19)\n",
        "val_total_line=tf.one_hot(val_df.total_lines.to_numpy(),depth=19)"
      ],
      "metadata": {
        "id": "jPQpa1xHYxfg"
      },
      "execution_count": 59,
      "outputs": []
    },
    {
      "cell_type": "markdown",
      "source": [
        "## build the model"
      ],
      "metadata": {
        "id": "OY2mKKPkKAhu"
      }
    },
    {
      "cell_type": "code",
      "metadata": {
        "id": "aPiFnY8E0oPS"
      },
      "source": [
        "# word level model\n",
        "word_input=layers.Input([],dtype=tf.string, name=\"word_input\")\n",
        "word_embedding=uni_sen_encoder(word_input)\n",
        "word_output=layers.Dense(64, activation=\"relu\")(word_embedding)\n",
        "word_model=tf.keras.Model(word_input, word_output)\n",
        "\n",
        "# character level model\n",
        "char_input=layers.Input([],dtype=tf.string, name=\"char_input\")\n",
        "char_vector=char_vectorizor(char_input)\n",
        "char_embedding_layer=char_embedding(char_vector)\n",
        "char_dense=layers.Dense(64, activation=\"relu\")(char_embedding_layer)\n",
        "char_output=layers.GlobalMaxPool1D()(char_dense)\n",
        "char_model=tf.keras.Model(char_input, char_output)\n",
        "\n",
        "# concatenate word and char input \n",
        "concat=layers.Concatenate(name=\"concate\")([word_model.output,char_model.output])\n",
        "drop=layers.Dropout(0.5)(concat)\n",
        "dense=layers.Dense(128, activation=\"relu\")(drop)\n",
        "drop2=layers.Dropout(0.5)(dense)\n",
        "\n",
        "# line numbers inputs\n",
        "line_number_inputs = layers.Input(shape=(line_number_percentile,), name=\"line_number_input\")\n",
        "x = layers.Dense(64, activation=\"relu\")(line_number_inputs)\n",
        "line_number_model = tf.keras.Model(inputs=line_number_inputs,\n",
        "                                   outputs=x)\n",
        "\n",
        "# total lines inputs\n",
        "total_lines_inputs = layers.Input(shape=(total_line_percentile,), name=\"total_lines_input\")\n",
        "y = layers.Dense(64, activation=\"relu\")(total_lines_inputs)\n",
        "total_line_model = tf.keras.Model(inputs=total_lines_inputs,\n",
        "                                  outputs=y)\n",
        "\n",
        " # concat line number and total lines\n",
        "concat2=layers.Concatenate(name=\"concate2\")([line_number_model.output,total_line_model.output])\n",
        "drop3=layers.Dropout(0.5)(concat2)\n",
        "dense2=layers.Dense(128, activation=\"relu\")(drop3)\n",
        "drop4=layers.Dropout(0.5)(dense2)\n",
        "\n",
        "# final concat\n",
        "drop4=layers.Concatenate(name=\"total_concat\")([drop4, drop2 ])\n",
        "\n",
        "final_output=layers.Dense(5, activation=\"softmax\", name=\"output_layer\")(drop4)\n",
        "\n",
        "model_4=tf.keras.Model(inputs=[line_number_model.input,\n",
        "                                 total_line_model.input,\n",
        "                                 word_model.input, \n",
        "                                 char_model.input],\n",
        "                         outputs=final_output,name=\"model_4\")"
      ],
      "execution_count": 60,
      "outputs": []
    },
    {
      "cell_type": "code",
      "source": [
        "from tensorflow.keras.utils import plot_model\n",
        "plot_model(model_4,show_shapes=True)"
      ],
      "metadata": {
        "colab": {
          "base_uri": "https://localhost:8080/",
          "height": 502
        },
        "id": "OqpdIORgyWcO",
        "outputId": "cb4fbc6a-291e-4dea-ed74-6d9a8d9371cf"
      },
      "execution_count": 61,
      "outputs": [
        {
          "output_type": "execute_result",
          "data": {
            "image/png": "[encoded data removed]",
            "text/plain": [
              "<IPython.core.display.Image object>"
            ]
          },
          "metadata": {},
          "execution_count": 61
        }
      ]
    },
    {
      "cell_type": "code",
      "source": [
        "model_4.compile(loss=tf.keras.losses.CategoricalCrossentropy(label_smoothing=0.25),\n",
        "                optimizer=tf.keras.optimizers.Adam(),\n",
        "                metrics=['accuracy'])"
      ],
      "metadata": {
        "id": "pzYYVPtKyu-H"
      },
      "execution_count": 62,
      "outputs": []
    },
    {
      "cell_type": "markdown",
      "source": [
        "## prepare data input"
      ],
      "metadata": {
        "id": "qLKWWpA4Pm7R"
      }
    },
    {
      "cell_type": "code",
      "source": [
        "train_positional_data=tf.data.Dataset.from_tensor_slices((train_line_numbers,\n",
        "                                                          train_total_line,\n",
        "                                                          train_sentences,\n",
        "                                                          train_char))\n",
        "train_positional_label=tf.data.Dataset.from_tensor_slices(train_label)\n",
        "train_positional_dataset=tf.data.Dataset.zip((train_positional_data,train_positional_label))\n",
        "train_positional_dataset=train_positional_dataset.batch(32).prefetch(tf.data.AUTOTUNE)\n",
        "\n",
        "val_positional_data=tf.data.Dataset.from_tensor_slices((val_line_numbers,\n",
        "                                                        val_total_line,\n",
        "                                                        val_sentences,\n",
        "                                                        val_char))\n",
        "val_positional_label=tf.data.Dataset.from_tensor_slices(val_label)\n",
        "val_positional_dataset=tf.data.Dataset.zip((val_positional_data,val_positional_label))\n",
        "val_positional_dataset=val_positional_dataset.batch(32).prefetch(tf.data.AUTOTUNE)\n"
      ],
      "metadata": {
        "id": "sicME61LNcy9"
      },
      "execution_count": 63,
      "outputs": []
    },
    {
      "cell_type": "code",
      "source": [
        "train_positional_dataset"
      ],
      "metadata": {
        "colab": {
          "base_uri": "https://localhost:8080/"
        },
        "id": "Q1J3GpTr2kOF",
        "outputId": "11a36cbc-500c-4a99-f632-d0fda91026cf"
      },
      "execution_count": 64,
      "outputs": [
        {
          "output_type": "execute_result",
          "data": {
            "text/plain": [
              "<PrefetchDataset shapes: (((None, 14), (None, 19), (None,), (None,)), (None, 5)), types: ((tf.float32, tf.float32, tf.string, tf.string), tf.float64)>"
            ]
          },
          "metadata": {},
          "execution_count": 64
        }
      ]
    },
    {
      "cell_type": "markdown",
      "source": [
        "## fit and evaluate"
      ],
      "metadata": {
        "id": "0h34zDxhaAaC"
      }
    },
    {
      "cell_type": "code",
      "source": [
        "mode_4_history=model_4.fit(train_positional_dataset, \n",
        "                              steps_per_epoch=int(0.3*len(train_positional_dataset)),\n",
        "                              epochs=3,\n",
        "                              validation_data=val_positional_dataset,\n",
        "                              validation_steps=int(0.3* len(val_positional_dataset)))"
      ],
      "metadata": {
        "colab": {
          "base_uri": "https://localhost:8080/"
        },
        "id": "PESuWgMm2prQ",
        "outputId": "fa3f8eb2-222b-4201-de1b-f26f8156d5c0"
      },
      "execution_count": 65,
      "outputs": [
        {
          "output_type": "stream",
          "name": "stdout",
          "text": [
            "Epoch 1/3\n",
            "1688/1688 [==============================] - 122s 66ms/step - loss: 1.1012 - accuracy: 0.7779 - val_loss: 0.9982 - val_accuracy: 0.8487\n",
            "Epoch 2/3\n",
            "1688/1688 [==============================] - 113s 67ms/step - loss: 1.0328 - accuracy: 0.8358 - val_loss: 0.9753 - val_accuracy: 0.8679\n",
            "Epoch 3/3\n",
            "1688/1688 [==============================] - 105s 62ms/step - loss: 1.0167 - accuracy: 0.8449 - val_loss: 0.9738 - val_accuracy: 0.8647\n"
          ]
        }
      ]
    },
    {
      "cell_type": "code",
      "source": [
        "model_4.evaluate(val_positional_dataset)"
      ],
      "metadata": {
        "colab": {
          "base_uri": "https://localhost:8080/"
        },
        "id": "tTve0WArZI97",
        "outputId": "149867e5-e39d-42ca-ac03-b6e2fe8fc2cd"
      },
      "execution_count": 66,
      "outputs": [
        {
          "output_type": "stream",
          "name": "stdout",
          "text": [
            "945/945 [==============================] - 49s 52ms/step - loss: 0.9734 - accuracy: 0.8661\n"
          ]
        },
        {
          "output_type": "execute_result",
          "data": {
            "text/plain": [
              "[0.9734179973602295, 0.8661128282546997]"
            ]
          },
          "metadata": {},
          "execution_count": 66
        }
      ]
    },
    {
      "cell_type": "code",
      "source": [
        "model_4_predict=model_4.predict(val_positional_dataset)\n",
        "model_4_predict_result=tf.argmax(model_4_predict,axis=1)\n",
        "model_4_result=calculate_results(val_labelencode, model_4_predict_result)\n",
        "model_4_result"
      ],
      "metadata": {
        "colab": {
          "base_uri": "https://localhost:8080/"
        },
        "id": "JSTjFJqNZXK-",
        "outputId": "93f62816-bedf-458b-9cf0-30b4cffaf727"
      },
      "execution_count": 67,
      "outputs": [
        {
          "output_type": "execute_result",
          "data": {
            "text/plain": [
              "{'accuracy': 0.8661128028597909,\n",
              " 'f1': 0.8623158685927301,\n",
              " 'precision': 0.8706624276744844,\n",
              " 'recall': 0.8661128028597909}"
            ]
          },
          "metadata": {},
          "execution_count": 67
        }
      ]
    },
    {
      "cell_type": "markdown",
      "source": [
        "# compare  models"
      ],
      "metadata": {
        "id": "dAuBdFmtayvr"
      }
    },
    {
      "cell_type": "code",
      "source": [
        "comparison = pd.DataFrame({\"naive bayes\": model_0_result,\n",
        "                                  \"custom word embedding\": model_1_result,\n",
        "                                  \"universal encoder \": model_2_result,\n",
        "                                  \"universal encoder + character embedding\": model_3_result,\n",
        "                                  \"USE+character+position\": model_4_result\n",
        "                                  })\n",
        "comparison = comparison.transpose()\n",
        "comparison.sort_values(\"accuracy\", ascending=False)"
      ],
      "metadata": {
        "colab": {
          "base_uri": "https://localhost:8080/",
          "height": 204
        },
        "id": "vAhvwdUsa0rl",
        "outputId": "312ca9b6-799d-43ba-ddbd-1584652b780a"
      },
      "execution_count": 90,
      "outputs": [
        {
          "output_type": "execute_result",
          "data": {
            "text/html": [
              "\n",
              "  <div id=\"df-b0079d65-19b9-49e7-ad5f-474f6817bfdb\">\n",
              "    <div class=\"colab-df-container\">\n",
              "      <div>\n",
              "<style scoped>\n",
              "    .dataframe tbody tr th:only-of-type {\n",
              "        vertical-align: middle;\n",
              "    }\n",
              "\n",
              "    .dataframe tbody tr th {\n",
              "        vertical-align: top;\n",
              "    }\n",
              "\n",
              "    .dataframe thead th {\n",
              "        text-align: right;\n",
              "    }\n",
              "</style>\n",
              "<table border=\"1\" class=\"dataframe\">\n",
              "  <thead>\n",
              "    <tr style=\"text-align: right;\">\n",
              "      <th></th>\n",
              "      <th>accuracy</th>\n",
              "      <th>precision</th>\n",
              "      <th>recall</th>\n",
              "      <th>f1</th>\n",
              "    </tr>\n",
              "  </thead>\n",
              "  <tbody>\n",
              "    <tr>\n",
              "      <th>USE+character+position</th>\n",
              "      <td>0.866113</td>\n",
              "      <td>0.870662</td>\n",
              "      <td>0.866113</td>\n",
              "      <td>0.862316</td>\n",
              "    </tr>\n",
              "    <tr>\n",
              "      <th>custom word embedding</th>\n",
              "      <td>0.800377</td>\n",
              "      <td>0.809863</td>\n",
              "      <td>0.800377</td>\n",
              "      <td>0.794243</td>\n",
              "    </tr>\n",
              "    <tr>\n",
              "      <th>universal encoder + character embedding</th>\n",
              "      <td>0.791010</td>\n",
              "      <td>0.792049</td>\n",
              "      <td>0.791010</td>\n",
              "      <td>0.787757</td>\n",
              "    </tr>\n",
              "    <tr>\n",
              "      <th>universal encoder</th>\n",
              "      <td>0.790878</td>\n",
              "      <td>0.794959</td>\n",
              "      <td>0.790878</td>\n",
              "      <td>0.788391</td>\n",
              "    </tr>\n",
              "    <tr>\n",
              "      <th>naive bayes</th>\n",
              "      <td>0.731729</td>\n",
              "      <td>0.731517</td>\n",
              "      <td>0.731729</td>\n",
              "      <td>0.705806</td>\n",
              "    </tr>\n",
              "  </tbody>\n",
              "</table>\n",
              "</div>\n",
              "      <button class=\"colab-df-convert\" onclick=\"convertToInteractive('df-b0079d65-19b9-49e7-ad5f-474f6817bfdb')\"\n",
              "              title=\"Convert this dataframe to an interactive table.\"\n",
              "              style=\"display:none;\">\n",
              "        \n",
              "  <svg xmlns=\"http://www.w3.org/2000/svg\" height=\"24px\"viewBox=\"0 0 24 24\"\n",
              "       width=\"24px\">\n",
              "    <path d=\"M0 0h24v24H0V0z\" fill=\"none\"/>\n",
              "    <path d=\"M18.56 5.44l.94 2.06.94-2.06 2.06-.94-2.06-.94-.94-2.06-.94 2.06-2.06.94zm-11 1L8.5 8.5l.94-2.06 2.06-.94-2.06-.94L8.5 2.5l-.94 2.06-2.06.94zm10 10l.94 2.06.94-2.06 2.06-.94-2.06-.94-.94-2.06-.94 2.06-2.06.94z\"/><path d=\"M17.41 7.96l-1.37-1.37c-.4-.4-.92-.59-1.43-.59-.52 0-1.04.2-1.43.59L10.3 9.45l-7.72 7.72c-.78.78-.78 2.05 0 2.83L4 21.41c.39.39.9.59 1.41.59.51 0 1.02-.2 1.41-.59l7.78-7.78 2.81-2.81c.8-.78.8-2.07 0-2.86zM5.41 20L4 18.59l7.72-7.72 1.47 1.35L5.41 20z\"/>\n",
              "  </svg>\n",
              "      </button>\n",
              "      \n",
              "  <style>\n",
              "    .colab-df-container {\n",
              "      display:flex;\n",
              "      flex-wrap:wrap;\n",
              "      gap: 12px;\n",
              "    }\n",
              "\n",
              "    .colab-df-convert {\n",
              "      background-color: #E8F0FE;\n",
              "      border: none;\n",
              "      border-radius: 50%;\n",
              "      cursor: pointer;\n",
              "      display: none;\n",
              "      fill: #1967D2;\n",
              "      height: 32px;\n",
              "      padding: 0 0 0 0;\n",
              "      width: 32px;\n",
              "    }\n",
              "\n",
              "    .colab-df-convert:hover {\n",
              "      background-color: #E2EBFA;\n",
              "      box-shadow: 0px 1px 2px rgba(60, 64, 67, 0.3), 0px 1px 3px 1px rgba(60, 64, 67, 0.15);\n",
              "      fill: #174EA6;\n",
              "    }\n",
              "\n",
              "    [theme=dark] .colab-df-convert {\n",
              "      background-color: #3B4455;\n",
              "      fill: #D2E3FC;\n",
              "    }\n",
              "\n",
              "    [theme=dark] .colab-df-convert:hover {\n",
              "      background-color: #434B5C;\n",
              "      box-shadow: 0px 1px 3px 1px rgba(0, 0, 0, 0.15);\n",
              "      filter: drop-shadow(0px 1px 2px rgba(0, 0, 0, 0.3));\n",
              "      fill: #FFFFFF;\n",
              "    }\n",
              "  </style>\n",
              "\n",
              "      <script>\n",
              "        const buttonEl =\n",
              "          document.querySelector('#df-b0079d65-19b9-49e7-ad5f-474f6817bfdb button.colab-df-convert');\n",
              "        buttonEl.style.display =\n",
              "          google.colab.kernel.accessAllowed ? 'block' : 'none';\n",
              "\n",
              "        async function convertToInteractive(key) {\n",
              "          const element = document.querySelector('#df-b0079d65-19b9-49e7-ad5f-474f6817bfdb');\n",
              "          const dataTable =\n",
              "            await google.colab.kernel.invokeFunction('convertToInteractive',\n",
              "                                                     [key], {});\n",
              "          if (!dataTable) return;\n",
              "\n",
              "          const docLinkHtml = 'Like what you see? Visit the ' +\n",
              "            '<a target=\"_blank\" href=https://colab.research.google.com/notebooks/data_table.ipynb>data table notebook</a>'\n",
              "            + ' to learn more about interactive tables.';\n",
              "          element.innerHTML = '';\n",
              "          dataTable['output_type'] = 'display_data';\n",
              "          await google.colab.output.renderOutput(dataTable, element);\n",
              "          const docLink = document.createElement('div');\n",
              "          docLink.innerHTML = docLinkHtml;\n",
              "          element.appendChild(docLink);\n",
              "        }\n",
              "      </script>\n",
              "    </div>\n",
              "  </div>\n",
              "  "
            ],
            "text/plain": [
              "                                         accuracy  ...        f1\n",
              "USE+character+position                   0.866113  ...  0.862316\n",
              "custom word embedding                    0.800377  ...  0.794243\n",
              "universal encoder + character embedding  0.791010  ...  0.787757\n",
              "universal encoder                        0.790878  ...  0.788391\n",
              "naive bayes                              0.731729  ...  0.705806\n",
              "\n",
              "[5 rows x 4 columns]"
            ]
          },
          "metadata": {},
          "execution_count": 90
        }
      ]
    },
    {
      "cell_type": "markdown",
      "source": [
        "# train model 4 with all training data"
      ],
      "metadata": {
        "id": "nkawtdis0p45"
      }
    },
    {
      "cell_type": "code",
      "source": [
        "early_stop = tf.keras.callbacks.EarlyStopping(monitor=\"val_loss\", \n",
        "                                                  patience=3)\n",
        "checkpoint_path = \"checkpoints/\"\n",
        "model_checkpoint = tf.keras.callbacks.ModelCheckpoint(checkpoint_path,\n",
        "                                                      save_best_only=True,\n",
        "                                                      monitor=\"val_loss\")"
      ],
      "metadata": {
        "id": "_EkSEuMf0pNc"
      },
      "execution_count": 69,
      "outputs": []
    },
    {
      "cell_type": "code",
      "source": [
        "model_4.compile(loss=tf.keras.losses.CategoricalCrossentropy(label_smoothing=0.25),\n",
        "                optimizer=tf.keras.optimizers.Adam(),\n",
        "                metrics=['accuracy'])"
      ],
      "metadata": {
        "id": "OpyJnKLU01TF"
      },
      "execution_count": 70,
      "outputs": []
    },
    {
      "cell_type": "code",
      "source": [
        "model_4_full_history=model_4.fit(train_positional_dataset, \n",
        "                              steps_per_epoch=len(train_positional_dataset),\n",
        "                              epochs=100,\n",
        "                              validation_data=val_positional_dataset,\n",
        "                              validation_steps=len(val_positional_dataset),\n",
        "                              callbacks=[model_checkpoint, early_stop])"
      ],
      "metadata": {
        "colab": {
          "base_uri": "https://localhost:8080/"
        },
        "id": "sd47g5s_02JU",
        "outputId": "9e2a66f3-21ea-4ef2-e6af-daa269510fd1"
      },
      "execution_count": 71,
      "outputs": [
        {
          "output_type": "stream",
          "name": "stdout",
          "text": [
            "Epoch 1/100\n",
            "5626/5627 [============================>.] - ETA: 0s - loss: 1.0047 - accuracy: 0.8527INFO:tensorflow:Assets written to: checkpoints/assets\n"
          ]
        },
        {
          "output_type": "stream",
          "name": "stderr",
          "text": [
            "INFO:tensorflow:Assets written to: checkpoints/assets\n"
          ]
        },
        {
          "output_type": "stream",
          "name": "stdout",
          "text": [
            "5627/5627 [==============================] - 426s 74ms/step - loss: 1.0047 - accuracy: 0.8527 - val_loss: 0.9653 - val_accuracy: 0.8688\n",
            "Epoch 2/100\n",
            "5626/5627 [============================>.] - ETA: 0s - loss: 0.9971 - accuracy: 0.8580INFO:tensorflow:Assets written to: checkpoints/assets\n"
          ]
        },
        {
          "output_type": "stream",
          "name": "stderr",
          "text": [
            "INFO:tensorflow:Assets written to: checkpoints/assets\n"
          ]
        },
        {
          "output_type": "stream",
          "name": "stdout",
          "text": [
            "5627/5627 [==============================] - 412s 73ms/step - loss: 0.9971 - accuracy: 0.8580 - val_loss: 0.9610 - val_accuracy: 0.8728\n",
            "Epoch 3/100\n",
            "5626/5627 [============================>.] - ETA: 0s - loss: 0.9925 - accuracy: 0.8611INFO:tensorflow:Assets written to: checkpoints/assets\n"
          ]
        },
        {
          "output_type": "stream",
          "name": "stderr",
          "text": [
            "INFO:tensorflow:Assets written to: checkpoints/assets\n"
          ]
        },
        {
          "output_type": "stream",
          "name": "stdout",
          "text": [
            "5627/5627 [==============================] - 411s 73ms/step - loss: 0.9925 - accuracy: 0.8611 - val_loss: 0.9601 - val_accuracy: 0.8735\n",
            "Epoch 4/100\n",
            "5626/5627 [============================>.] - ETA: 0s - loss: 0.9902 - accuracy: 0.8626INFO:tensorflow:Assets written to: checkpoints/assets\n"
          ]
        },
        {
          "output_type": "stream",
          "name": "stderr",
          "text": [
            "INFO:tensorflow:Assets written to: checkpoints/assets\n"
          ]
        },
        {
          "output_type": "stream",
          "name": "stdout",
          "text": [
            "5627/5627 [==============================] - 410s 73ms/step - loss: 0.9902 - accuracy: 0.8626 - val_loss: 0.9580 - val_accuracy: 0.8749\n",
            "Epoch 5/100\n",
            "5626/5627 [============================>.] - ETA: 0s - loss: 0.9873 - accuracy: 0.8638INFO:tensorflow:Assets written to: checkpoints/assets\n"
          ]
        },
        {
          "output_type": "stream",
          "name": "stderr",
          "text": [
            "INFO:tensorflow:Assets written to: checkpoints/assets\n"
          ]
        },
        {
          "output_type": "stream",
          "name": "stdout",
          "text": [
            "5627/5627 [==============================] - 412s 73ms/step - loss: 0.9873 - accuracy: 0.8638 - val_loss: 0.9577 - val_accuracy: 0.8778\n",
            "Epoch 6/100\n",
            "5626/5627 [============================>.] - ETA: 0s - loss: 0.9857 - accuracy: 0.8658INFO:tensorflow:Assets written to: checkpoints/assets\n"
          ]
        },
        {
          "output_type": "stream",
          "name": "stderr",
          "text": [
            "INFO:tensorflow:Assets written to: checkpoints/assets\n"
          ]
        },
        {
          "output_type": "stream",
          "name": "stdout",
          "text": [
            "5627/5627 [==============================] - 413s 73ms/step - loss: 0.9857 - accuracy: 0.8658 - val_loss: 0.9554 - val_accuracy: 0.8773\n",
            "Epoch 7/100\n",
            "5626/5627 [============================>.] - ETA: 0s - loss: 0.9842 - accuracy: 0.8671INFO:tensorflow:Assets written to: checkpoints/assets\n"
          ]
        },
        {
          "output_type": "stream",
          "name": "stderr",
          "text": [
            "INFO:tensorflow:Assets written to: checkpoints/assets\n"
          ]
        },
        {
          "output_type": "stream",
          "name": "stdout",
          "text": [
            "5627/5627 [==============================] - 411s 73ms/step - loss: 0.9842 - accuracy: 0.8671 - val_loss: 0.9550 - val_accuracy: 0.8780\n",
            "Epoch 8/100\n",
            "5626/5627 [============================>.] - ETA: 0s - loss: 0.9838 - accuracy: 0.8678INFO:tensorflow:Assets written to: checkpoints/assets\n"
          ]
        },
        {
          "output_type": "stream",
          "name": "stderr",
          "text": [
            "INFO:tensorflow:Assets written to: checkpoints/assets\n"
          ]
        },
        {
          "output_type": "stream",
          "name": "stdout",
          "text": [
            "5627/5627 [==============================] - 409s 73ms/step - loss: 0.9838 - accuracy: 0.8678 - val_loss: 0.9547 - val_accuracy: 0.8791\n",
            "Epoch 9/100\n",
            "5627/5627 [==============================] - 343s 61ms/step - loss: 0.9830 - accuracy: 0.8675 - val_loss: 0.9549 - val_accuracy: 0.8782\n",
            "Epoch 10/100\n",
            "5626/5627 [============================>.] - ETA: 0s - loss: 0.9819 - accuracy: 0.8683INFO:tensorflow:Assets written to: checkpoints/assets\n"
          ]
        },
        {
          "output_type": "stream",
          "name": "stderr",
          "text": [
            "INFO:tensorflow:Assets written to: checkpoints/assets\n"
          ]
        },
        {
          "output_type": "stream",
          "name": "stdout",
          "text": [
            "5627/5627 [==============================] - 408s 73ms/step - loss: 0.9819 - accuracy: 0.8683 - val_loss: 0.9533 - val_accuracy: 0.8803\n",
            "Epoch 11/100\n",
            "5627/5627 [==============================] - 345s 61ms/step - loss: 0.9808 - accuracy: 0.8695 - val_loss: 0.9536 - val_accuracy: 0.8796\n",
            "Epoch 12/100\n",
            "5627/5627 [==============================] - 346s 61ms/step - loss: 0.9808 - accuracy: 0.8685 - val_loss: 0.9535 - val_accuracy: 0.8805\n",
            "Epoch 13/100\n",
            "5626/5627 [============================>.] - ETA: 0s - loss: 0.9798 - accuracy: 0.8706INFO:tensorflow:Assets written to: checkpoints/assets\n"
          ]
        },
        {
          "output_type": "stream",
          "name": "stderr",
          "text": [
            "INFO:tensorflow:Assets written to: checkpoints/assets\n"
          ]
        },
        {
          "output_type": "stream",
          "name": "stdout",
          "text": [
            "5627/5627 [==============================] - 412s 73ms/step - loss: 0.9798 - accuracy: 0.8706 - val_loss: 0.9532 - val_accuracy: 0.8794\n",
            "Epoch 14/100\n",
            "5626/5627 [============================>.] - ETA: 0s - loss: 0.9791 - accuracy: 0.8701INFO:tensorflow:Assets written to: checkpoints/assets\n"
          ]
        },
        {
          "output_type": "stream",
          "name": "stderr",
          "text": [
            "INFO:tensorflow:Assets written to: checkpoints/assets\n"
          ]
        },
        {
          "output_type": "stream",
          "name": "stdout",
          "text": [
            "5627/5627 [==============================] - 418s 74ms/step - loss: 0.9791 - accuracy: 0.8701 - val_loss: 0.9518 - val_accuracy: 0.8803\n",
            "Epoch 15/100\n",
            "5626/5627 [============================>.] - ETA: 0s - loss: 0.9793 - accuracy: 0.8701INFO:tensorflow:Assets written to: checkpoints/assets\n"
          ]
        },
        {
          "output_type": "stream",
          "name": "stderr",
          "text": [
            "INFO:tensorflow:Assets written to: checkpoints/assets\n"
          ]
        },
        {
          "output_type": "stream",
          "name": "stdout",
          "text": [
            "5627/5627 [==============================] - 414s 74ms/step - loss: 0.9793 - accuracy: 0.8701 - val_loss: 0.9515 - val_accuracy: 0.8800\n",
            "Epoch 16/100\n",
            "5627/5627 [==============================] - 353s 63ms/step - loss: 0.9784 - accuracy: 0.8709 - val_loss: 0.9534 - val_accuracy: 0.8795\n",
            "Epoch 17/100\n",
            "5627/5627 [==============================] - 354s 63ms/step - loss: 0.9776 - accuracy: 0.8722 - val_loss: 0.9521 - val_accuracy: 0.8800\n",
            "Epoch 18/100\n",
            "5627/5627 [==============================] - 345s 61ms/step - loss: 0.9779 - accuracy: 0.8715 - val_loss: 0.9520 - val_accuracy: 0.8795\n"
          ]
        }
      ]
    },
    {
      "cell_type": "code",
      "source": [
        "plot_loss_curves(model_4_full_history)"
      ],
      "metadata": {
        "colab": {
          "base_uri": "https://localhost:8080/",
          "height": 573
        },
        "id": "nBvLSwt-DKlb",
        "outputId": "d71f1abf-2f21-4444-c138-088722551646"
      },
      "execution_count": 72,
      "outputs": [
        {
          "output_type": "display_data",
          "data": {
            "image/png": "[encoded data removed]",
            "text/plain": [
              "<Figure size 432x288 with 1 Axes>"
            ]
          },
          "metadata": {
            "needs_background": "light"
          }
        },
        {
          "output_type": "display_data",
          "data": {
            "image/png": "[encoded data removed]",
            "text/plain": [
              "<Figure size 432x288 with 1 Axes>"
            ]
          },
          "metadata": {
            "needs_background": "light"
          }
        }
      ]
    },
    {
      "cell_type": "markdown",
      "source": [
        "# predict on test data "
      ],
      "metadata": {
        "id": "PFclWPwPPyr4"
      }
    },
    {
      "cell_type": "code",
      "source": [
        "test_line_numbers=tf.one_hot(test_df.line_number.to_numpy(),depth=14)\n",
        "test_total_line=tf.one_hot(test_df.total_lines.to_numpy(),depth=19)"
      ],
      "metadata": {
        "id": "iq7Es-zacezP"
      },
      "execution_count": 78,
      "outputs": []
    },
    {
      "cell_type": "code",
      "source": [
        "test_positional_data=tf.data.Dataset.from_tensor_slices((test_line_numbers,\n",
        "                                                                  test_total_line,\n",
        "                                                                  test_sentences,\n",
        "                                                                   test_char))\n",
        "test_positional_label=tf.data.Dataset.from_tensor_slices(test_label)\n",
        "test_positional_dataset=tf.data.Dataset.zip((test_positional_data,test_positional_label))\n",
        "test_positional_dataset=test_positional_dataset.batch(32).prefetch(tf.data.AUTOTUNE)"
      ],
      "metadata": {
        "id": "i8y2Hbyu_6Kl"
      },
      "execution_count": 74,
      "outputs": []
    },
    {
      "cell_type": "code",
      "source": [
        "model_4.evaluate(test_positional_dataset)"
      ],
      "metadata": {
        "colab": {
          "base_uri": "https://localhost:8080/"
        },
        "id": "XdmU1y3_Abam",
        "outputId": "407df096-bc39-4d19-bd26-a85de7db85bf"
      },
      "execution_count": 75,
      "outputs": [
        {
          "output_type": "stream",
          "name": "stdout",
          "text": [
            "942/942 [==============================] - 48s 51ms/step - loss: 0.9579 - accuracy: 0.8756\n"
          ]
        },
        {
          "output_type": "execute_result",
          "data": {
            "text/plain": [
              "[0.9579122066497803, 0.8755599856376648]"
            ]
          },
          "metadata": {},
          "execution_count": 75
        }
      ]
    },
    {
      "cell_type": "code",
      "source": [
        "test_predict=model_4.predict(test_positional_dataset)\n",
        "test_predict_result=tf.argmax(test_predict,axis=1)\n",
        "test_result=calculate_results(test_labelencode, test_predict_result)\n",
        "test_result"
      ],
      "metadata": {
        "colab": {
          "base_uri": "https://localhost:8080/"
        },
        "id": "cF_WAnioHrR9",
        "outputId": "847ee2f6-a4d7-47db-b320-32f0ba692b78"
      },
      "execution_count": 76,
      "outputs": [
        {
          "output_type": "execute_result",
          "data": {
            "text/plain": [
              "{'accuracy': 0.8755599800895968,\n",
              " 'f1': 0.8727915501750719,\n",
              " 'precision': 0.8770570816944762,\n",
              " 'recall': 0.8755599800895968}"
            ]
          },
          "metadata": {},
          "execution_count": 76
        }
      ]
    },
    {
      "cell_type": "markdown",
      "source": [
        "# find most wrong prediction and evaluate"
      ],
      "metadata": {
        "id": "N1SoAGS2IxR2"
      }
    },
    {
      "cell_type": "code",
      "source": [
        "test_predict_classes = [label_encoder.classes_[pred] for pred in test_predict_result]"
      ],
      "metadata": {
        "id": "EOB7dXnaI6rq"
      },
      "execution_count": 77,
      "outputs": []
    },
    {
      "cell_type": "code",
      "source": [
        "test_df[\"prediction\"] = test_predict_classes\n",
        "test_df[\"predict_prob\"] = tf.reduce_max(test_predict, axis=1).numpy() \n",
        "test_df[\"result\"] = test_df[\"prediction\"] == test_df[\"label\"] \n",
        "test_df.head()"
      ],
      "metadata": {
        "colab": {
          "base_uri": "https://localhost:8080/",
          "height": 333
        },
        "id": "NXiLDVY7JTC-",
        "outputId": "827efdf4-d248-408e-cce1-fa47cbf7f538"
      },
      "execution_count": 92,
      "outputs": [
        {
          "output_type": "execute_result",
          "data": {
            "text/html": [
              "\n",
              "  <div id=\"df-d8bb7481-4ca4-4f61-8d3f-8c17dd89d4c8\">\n",
              "    <div class=\"colab-df-container\">\n",
              "      <div>\n",
              "<style scoped>\n",
              "    .dataframe tbody tr th:only-of-type {\n",
              "        vertical-align: middle;\n",
              "    }\n",
              "\n",
              "    .dataframe tbody tr th {\n",
              "        vertical-align: top;\n",
              "    }\n",
              "\n",
              "    .dataframe thead th {\n",
              "        text-align: right;\n",
              "    }\n",
              "</style>\n",
              "<table border=\"1\" class=\"dataframe\">\n",
              "  <thead>\n",
              "    <tr style=\"text-align: right;\">\n",
              "      <th></th>\n",
              "      <th>label</th>\n",
              "      <th>text</th>\n",
              "      <th>line_number</th>\n",
              "      <th>total_lines</th>\n",
              "      <th>prediction</th>\n",
              "      <th>predict_prob</th>\n",
              "      <th>result</th>\n",
              "    </tr>\n",
              "  </thead>\n",
              "  <tbody>\n",
              "    <tr>\n",
              "      <th>0</th>\n",
              "      <td>BACKGROUND</td>\n",
              "      <td>this study analyzed liver function abnormaliti...</td>\n",
              "      <td>1</td>\n",
              "      <td>9</td>\n",
              "      <td>OBJECTIVE</td>\n",
              "      <td>0.346936</td>\n",
              "      <td>False</td>\n",
              "    </tr>\n",
              "    <tr>\n",
              "      <th>1</th>\n",
              "      <td>RESULTS</td>\n",
              "      <td>a post hoc analysis was conducted with the use...</td>\n",
              "      <td>2</td>\n",
              "      <td>9</td>\n",
              "      <td>METHODS</td>\n",
              "      <td>0.611875</td>\n",
              "      <td>False</td>\n",
              "    </tr>\n",
              "    <tr>\n",
              "      <th>2</th>\n",
              "      <td>RESULTS</td>\n",
              "      <td>liver function tests ( lfts ) were measured at...</td>\n",
              "      <td>3</td>\n",
              "      <td>9</td>\n",
              "      <td>METHODS</td>\n",
              "      <td>0.750581</td>\n",
              "      <td>False</td>\n",
              "    </tr>\n",
              "    <tr>\n",
              "      <th>3</th>\n",
              "      <td>RESULTS</td>\n",
              "      <td>survival analyses were used to assess the asso...</td>\n",
              "      <td>4</td>\n",
              "      <td>9</td>\n",
              "      <td>METHODS</td>\n",
              "      <td>0.635165</td>\n",
              "      <td>False</td>\n",
              "    </tr>\n",
              "    <tr>\n",
              "      <th>4</th>\n",
              "      <td>RESULTS</td>\n",
              "      <td>the percentage of patients with abnormal lfts ...</td>\n",
              "      <td>5</td>\n",
              "      <td>9</td>\n",
              "      <td>RESULTS</td>\n",
              "      <td>0.681376</td>\n",
              "      <td>True</td>\n",
              "    </tr>\n",
              "  </tbody>\n",
              "</table>\n",
              "</div>\n",
              "      <button class=\"colab-df-convert\" onclick=\"convertToInteractive('df-d8bb7481-4ca4-4f61-8d3f-8c17dd89d4c8')\"\n",
              "              title=\"Convert this dataframe to an interactive table.\"\n",
              "              style=\"display:none;\">\n",
              "        \n",
              "  <svg xmlns=\"http://www.w3.org/2000/svg\" height=\"24px\"viewBox=\"0 0 24 24\"\n",
              "       width=\"24px\">\n",
              "    <path d=\"M0 0h24v24H0V0z\" fill=\"none\"/>\n",
              "    <path d=\"M18.56 5.44l.94 2.06.94-2.06 2.06-.94-2.06-.94-.94-2.06-.94 2.06-2.06.94zm-11 1L8.5 8.5l.94-2.06 2.06-.94-2.06-.94L8.5 2.5l-.94 2.06-2.06.94zm10 10l.94 2.06.94-2.06 2.06-.94-2.06-.94-.94-2.06-.94 2.06-2.06.94z\"/><path d=\"M17.41 7.96l-1.37-1.37c-.4-.4-.92-.59-1.43-.59-.52 0-1.04.2-1.43.59L10.3 9.45l-7.72 7.72c-.78.78-.78 2.05 0 2.83L4 21.41c.39.39.9.59 1.41.59.51 0 1.02-.2 1.41-.59l7.78-7.78 2.81-2.81c.8-.78.8-2.07 0-2.86zM5.41 20L4 18.59l7.72-7.72 1.47 1.35L5.41 20z\"/>\n",
              "  </svg>\n",
              "      </button>\n",
              "      \n",
              "  <style>\n",
              "    .colab-df-container {\n",
              "      display:flex;\n",
              "      flex-wrap:wrap;\n",
              "      gap: 12px;\n",
              "    }\n",
              "\n",
              "    .colab-df-convert {\n",
              "      background-color: #E8F0FE;\n",
              "      border: none;\n",
              "      border-radius: 50%;\n",
              "      cursor: pointer;\n",
              "      display: none;\n",
              "      fill: #1967D2;\n",
              "      height: 32px;\n",
              "      padding: 0 0 0 0;\n",
              "      width: 32px;\n",
              "    }\n",
              "\n",
              "    .colab-df-convert:hover {\n",
              "      background-color: #E2EBFA;\n",
              "      box-shadow: 0px 1px 2px rgba(60, 64, 67, 0.3), 0px 1px 3px 1px rgba(60, 64, 67, 0.15);\n",
              "      fill: #174EA6;\n",
              "    }\n",
              "\n",
              "    [theme=dark] .colab-df-convert {\n",
              "      background-color: #3B4455;\n",
              "      fill: #D2E3FC;\n",
              "    }\n",
              "\n",
              "    [theme=dark] .colab-df-convert:hover {\n",
              "      background-color: #434B5C;\n",
              "      box-shadow: 0px 1px 3px 1px rgba(0, 0, 0, 0.15);\n",
              "      filter: drop-shadow(0px 1px 2px rgba(0, 0, 0, 0.3));\n",
              "      fill: #FFFFFF;\n",
              "    }\n",
              "  </style>\n",
              "\n",
              "      <script>\n",
              "        const buttonEl =\n",
              "          document.querySelector('#df-d8bb7481-4ca4-4f61-8d3f-8c17dd89d4c8 button.colab-df-convert');\n",
              "        buttonEl.style.display =\n",
              "          google.colab.kernel.accessAllowed ? 'block' : 'none';\n",
              "\n",
              "        async function convertToInteractive(key) {\n",
              "          const element = document.querySelector('#df-d8bb7481-4ca4-4f61-8d3f-8c17dd89d4c8');\n",
              "          const dataTable =\n",
              "            await google.colab.kernel.invokeFunction('convertToInteractive',\n",
              "                                                     [key], {});\n",
              "          if (!dataTable) return;\n",
              "\n",
              "          const docLinkHtml = 'Like what you see? Visit the ' +\n",
              "            '<a target=\"_blank\" href=https://colab.research.google.com/notebooks/data_table.ipynb>data table notebook</a>'\n",
              "            + ' to learn more about interactive tables.';\n",
              "          element.innerHTML = '';\n",
              "          dataTable['output_type'] = 'display_data';\n",
              "          await google.colab.output.renderOutput(dataTable, element);\n",
              "          const docLink = document.createElement('div');\n",
              "          docLink.innerHTML = docLinkHtml;\n",
              "          element.appendChild(docLink);\n",
              "        }\n",
              "      </script>\n",
              "    </div>\n",
              "  </div>\n",
              "  "
            ],
            "text/plain": [
              "        label  ... result\n",
              "0  BACKGROUND  ...  False\n",
              "1     RESULTS  ...  False\n",
              "2     RESULTS  ...  False\n",
              "3     RESULTS  ...  False\n",
              "4     RESULTS  ...   True\n",
              "\n",
              "[5 rows x 7 columns]"
            ]
          },
          "metadata": {},
          "execution_count": 92
        }
      ]
    },
    {
      "cell_type": "code",
      "source": [
        "top_wrongs = test_df[test_df.result == False].sort_values(\"predict_prob\", ascending=False)\n",
        "top_wrongs.head(10)"
      ],
      "metadata": {
        "colab": {
          "base_uri": "https://localhost:8080/",
          "height": 573
        },
        "id": "Ok84Du3XJx1W",
        "outputId": "da2b9a7e-ef3a-4657-abfd-c376365906e4"
      },
      "execution_count": 94,
      "outputs": [
        {
          "output_type": "execute_result",
          "data": {
            "text/html": [
              "\n",
              "  <div id=\"df-8888dc09-f9c7-4846-954b-3011511d879f\">\n",
              "    <div class=\"colab-df-container\">\n",
              "      <div>\n",
              "<style scoped>\n",
              "    .dataframe tbody tr th:only-of-type {\n",
              "        vertical-align: middle;\n",
              "    }\n",
              "\n",
              "    .dataframe tbody tr th {\n",
              "        vertical-align: top;\n",
              "    }\n",
              "\n",
              "    .dataframe thead th {\n",
              "        text-align: right;\n",
              "    }\n",
              "</style>\n",
              "<table border=\"1\" class=\"dataframe\">\n",
              "  <thead>\n",
              "    <tr style=\"text-align: right;\">\n",
              "      <th></th>\n",
              "      <th>label</th>\n",
              "      <th>text</th>\n",
              "      <th>line_number</th>\n",
              "      <th>total_lines</th>\n",
              "      <th>prediction</th>\n",
              "      <th>predict_prob</th>\n",
              "      <th>result</th>\n",
              "    </tr>\n",
              "  </thead>\n",
              "  <tbody>\n",
              "    <tr>\n",
              "      <th>671</th>\n",
              "      <td>METHODS</td>\n",
              "      <td>to determine whether the insulin resistance th...</td>\n",
              "      <td>1</td>\n",
              "      <td>8</td>\n",
              "      <td>OBJECTIVE</td>\n",
              "      <td>0.916867</td>\n",
              "      <td>False</td>\n",
              "    </tr>\n",
              "    <tr>\n",
              "      <th>13598</th>\n",
              "      <td>METHODS</td>\n",
              "      <td>-1.5 % vs. fish : -1.4 % vs. fish + s : -0.7 %...</td>\n",
              "      <td>7</td>\n",
              "      <td>10</td>\n",
              "      <td>RESULTS</td>\n",
              "      <td>0.864813</td>\n",
              "      <td>False</td>\n",
              "    </tr>\n",
              "    <tr>\n",
              "      <th>14002</th>\n",
              "      <td>METHODS</td>\n",
              "      <td>resulst : graybiel ' s score and grading of se...</td>\n",
              "      <td>7</td>\n",
              "      <td>9</td>\n",
              "      <td>RESULTS</td>\n",
              "      <td>0.863009</td>\n",
              "      <td>False</td>\n",
              "    </tr>\n",
              "    <tr>\n",
              "      <th>12082</th>\n",
              "      <td>CONCLUSIONS</td>\n",
              "      <td>comparable numbers of patients experienced bcg...</td>\n",
              "      <td>12</td>\n",
              "      <td>19</td>\n",
              "      <td>RESULTS</td>\n",
              "      <td>0.862854</td>\n",
              "      <td>False</td>\n",
              "    </tr>\n",
              "    <tr>\n",
              "      <th>22443</th>\n",
              "      <td>METHODS</td>\n",
              "      <td>this study shows class i evidence that weekly ...</td>\n",
              "      <td>10</td>\n",
              "      <td>10</td>\n",
              "      <td>CONCLUSIONS</td>\n",
              "      <td>0.856183</td>\n",
              "      <td>False</td>\n",
              "    </tr>\n",
              "    <tr>\n",
              "      <th>23657</th>\n",
              "      <td>CONCLUSIONS</td>\n",
              "      <td>early reintervention rate within 30 d was thre...</td>\n",
              "      <td>11</td>\n",
              "      <td>15</td>\n",
              "      <td>RESULTS</td>\n",
              "      <td>0.849929</td>\n",
              "      <td>False</td>\n",
              "    </tr>\n",
              "    <tr>\n",
              "      <th>12158</th>\n",
              "      <td>METHODS</td>\n",
              "      <td>in the saffron group , there was no decline in...</td>\n",
              "      <td>10</td>\n",
              "      <td>13</td>\n",
              "      <td>RESULTS</td>\n",
              "      <td>0.849020</td>\n",
              "      <td>False</td>\n",
              "    </tr>\n",
              "    <tr>\n",
              "      <th>29638</th>\n",
              "      <td>METHODS</td>\n",
              "      <td>significance for all tests was set at p &lt; .05 .</td>\n",
              "      <td>9</td>\n",
              "      <td>13</td>\n",
              "      <td>RESULTS</td>\n",
              "      <td>0.848712</td>\n",
              "      <td>False</td>\n",
              "    </tr>\n",
              "    <tr>\n",
              "      <th>8545</th>\n",
              "      <td>METHODS</td>\n",
              "      <td>pretest-posttest .</td>\n",
              "      <td>2</td>\n",
              "      <td>12</td>\n",
              "      <td>BACKGROUND</td>\n",
              "      <td>0.847964</td>\n",
              "      <td>False</td>\n",
              "    </tr>\n",
              "    <tr>\n",
              "      <th>9468</th>\n",
              "      <td>CONCLUSIONS</td>\n",
              "      <td>pdt was associated with a significant decrease...</td>\n",
              "      <td>8</td>\n",
              "      <td>10</td>\n",
              "      <td>RESULTS</td>\n",
              "      <td>0.846433</td>\n",
              "      <td>False</td>\n",
              "    </tr>\n",
              "  </tbody>\n",
              "</table>\n",
              "</div>\n",
              "      <button class=\"colab-df-convert\" onclick=\"convertToInteractive('df-8888dc09-f9c7-4846-954b-3011511d879f')\"\n",
              "              title=\"Convert this dataframe to an interactive table.\"\n",
              "              style=\"display:none;\">\n",
              "        \n",
              "  <svg xmlns=\"http://www.w3.org/2000/svg\" height=\"24px\"viewBox=\"0 0 24 24\"\n",
              "       width=\"24px\">\n",
              "    <path d=\"M0 0h24v24H0V0z\" fill=\"none\"/>\n",
              "    <path d=\"M18.56 5.44l.94 2.06.94-2.06 2.06-.94-2.06-.94-.94-2.06-.94 2.06-2.06.94zm-11 1L8.5 8.5l.94-2.06 2.06-.94-2.06-.94L8.5 2.5l-.94 2.06-2.06.94zm10 10l.94 2.06.94-2.06 2.06-.94-2.06-.94-.94-2.06-.94 2.06-2.06.94z\"/><path d=\"M17.41 7.96l-1.37-1.37c-.4-.4-.92-.59-1.43-.59-.52 0-1.04.2-1.43.59L10.3 9.45l-7.72 7.72c-.78.78-.78 2.05 0 2.83L4 21.41c.39.39.9.59 1.41.59.51 0 1.02-.2 1.41-.59l7.78-7.78 2.81-2.81c.8-.78.8-2.07 0-2.86zM5.41 20L4 18.59l7.72-7.72 1.47 1.35L5.41 20z\"/>\n",
              "  </svg>\n",
              "      </button>\n",
              "      \n",
              "  <style>\n",
              "    .colab-df-container {\n",
              "      display:flex;\n",
              "      flex-wrap:wrap;\n",
              "      gap: 12px;\n",
              "    }\n",
              "\n",
              "    .colab-df-convert {\n",
              "      background-color: #E8F0FE;\n",
              "      border: none;\n",
              "      border-radius: 50%;\n",
              "      cursor: pointer;\n",
              "      display: none;\n",
              "      fill: #1967D2;\n",
              "      height: 32px;\n",
              "      padding: 0 0 0 0;\n",
              "      width: 32px;\n",
              "    }\n",
              "\n",
              "    .colab-df-convert:hover {\n",
              "      background-color: #E2EBFA;\n",
              "      box-shadow: 0px 1px 2px rgba(60, 64, 67, 0.3), 0px 1px 3px 1px rgba(60, 64, 67, 0.15);\n",
              "      fill: #174EA6;\n",
              "    }\n",
              "\n",
              "    [theme=dark] .colab-df-convert {\n",
              "      background-color: #3B4455;\n",
              "      fill: #D2E3FC;\n",
              "    }\n",
              "\n",
              "    [theme=dark] .colab-df-convert:hover {\n",
              "      background-color: #434B5C;\n",
              "      box-shadow: 0px 1px 3px 1px rgba(0, 0, 0, 0.15);\n",
              "      filter: drop-shadow(0px 1px 2px rgba(0, 0, 0, 0.3));\n",
              "      fill: #FFFFFF;\n",
              "    }\n",
              "  </style>\n",
              "\n",
              "      <script>\n",
              "        const buttonEl =\n",
              "          document.querySelector('#df-8888dc09-f9c7-4846-954b-3011511d879f button.colab-df-convert');\n",
              "        buttonEl.style.display =\n",
              "          google.colab.kernel.accessAllowed ? 'block' : 'none';\n",
              "\n",
              "        async function convertToInteractive(key) {\n",
              "          const element = document.querySelector('#df-8888dc09-f9c7-4846-954b-3011511d879f');\n",
              "          const dataTable =\n",
              "            await google.colab.kernel.invokeFunction('convertToInteractive',\n",
              "                                                     [key], {});\n",
              "          if (!dataTable) return;\n",
              "\n",
              "          const docLinkHtml = 'Like what you see? Visit the ' +\n",
              "            '<a target=\"_blank\" href=https://colab.research.google.com/notebooks/data_table.ipynb>data table notebook</a>'\n",
              "            + ' to learn more about interactive tables.';\n",
              "          element.innerHTML = '';\n",
              "          dataTable['output_type'] = 'display_data';\n",
              "          await google.colab.output.renderOutput(dataTable, element);\n",
              "          const docLink = document.createElement('div');\n",
              "          docLink.innerHTML = docLinkHtml;\n",
              "          element.appendChild(docLink);\n",
              "        }\n",
              "      </script>\n",
              "    </div>\n",
              "  </div>\n",
              "  "
            ],
            "text/plain": [
              "             label  ... result\n",
              "671        METHODS  ...  False\n",
              "13598      METHODS  ...  False\n",
              "14002      METHODS  ...  False\n",
              "12082  CONCLUSIONS  ...  False\n",
              "22443      METHODS  ...  False\n",
              "23657  CONCLUSIONS  ...  False\n",
              "12158      METHODS  ...  False\n",
              "29638      METHODS  ...  False\n",
              "8545       METHODS  ...  False\n",
              "9468   CONCLUSIONS  ...  False\n",
              "\n",
              "[10 rows x 7 columns]"
            ]
          },
          "metadata": {},
          "execution_count": 94
        }
      ]
    },
    {
      "cell_type": "code",
      "source": [
        "for row in top_wrongs[:30].itertuples(): \n",
        "  _, label, text, line_number, total_lines, prediction, pred_prob, _ = row\n",
        "  print(f\"label: {label}, Pred: {prediction}, Prob: {pred_prob}, Line number: {line_number}, Total lines: {total_lines}\\n\")\n",
        "  print(f\"Text: {text}\\n\\n\")"
      ],
      "metadata": {
        "colab": {
          "base_uri": "https://localhost:8080/"
        },
        "id": "7AlAV-I-KKvg",
        "outputId": "4e80582f-f707-4373-a15d-525909e624e7"
      },
      "execution_count": 95,
      "outputs": [
        {
          "output_type": "stream",
          "name": "stdout",
          "text": [
            "label: METHODS, Pred: OBJECTIVE, Prob: 0.9168668985366821, Line number: 1, Total lines: 8\n",
            "\n",
            "Text: to determine whether the insulin resistance that exists in metabolic syndrome ( mets ) patients is modulated by dietary fat composition .\n",
            "\n",
            "\n",
            "label: METHODS, Pred: RESULTS, Prob: 0.8648126125335693, Line number: 7, Total lines: 10\n",
            "\n",
            "Text: -1.5 % vs. fish : -1.4 % vs. fish + s : -0.7 % ; p < 0.001 ) but there were no significant differences between groups .\n",
            "\n",
            "\n",
            "label: METHODS, Pred: RESULTS, Prob: 0.8630086183547974, Line number: 7, Total lines: 9\n",
            "\n",
            "Text: resulst : graybiel ' s score and grading of severity had no difference between two groups through acclimatization training ( p > 0.05 ) .\n",
            "\n",
            "\n",
            "label: CONCLUSIONS, Pred: RESULTS, Prob: 0.86285400390625, Line number: 12, Total lines: 19\n",
            "\n",
            "Text: comparable numbers of patients experienced bcg therapy-related side effects in each treatment group ( p = 0.09 ) .\n",
            "\n",
            "\n",
            "label: METHODS, Pred: CONCLUSIONS, Prob: 0.8561826348304749, Line number: 10, Total lines: 10\n",
            "\n",
            "Text: this study shows class i evidence that weekly subcutaneous etanercept is well tolerated in alzheimer disease dementia .\n",
            "\n",
            "\n",
            "label: CONCLUSIONS, Pred: RESULTS, Prob: 0.8499287366867065, Line number: 11, Total lines: 15\n",
            "\n",
            "Text: early reintervention rate within 30 d was three times higher after turp ( p = 0.025 ) ; however , the overall postoperative reintervention rates were not significantly different between treatment arms .\n",
            "\n",
            "\n",
            "label: METHODS, Pred: RESULTS, Prob: 0.8490199446678162, Line number: 10, Total lines: 13\n",
            "\n",
            "Text: in the saffron group , there was no decline in maximum isometric and isotonic forces after eccentric exercise , but a significant decline in the isometric force was observed in the control group ( p < 0.0001 ) .\n",
            "\n",
            "\n",
            "label: METHODS, Pred: RESULTS, Prob: 0.8487119674682617, Line number: 9, Total lines: 13\n",
            "\n",
            "Text: significance for all tests was set at p < .05 .\n",
            "\n",
            "\n",
            "label: METHODS, Pred: BACKGROUND, Prob: 0.8479642868041992, Line number: 2, Total lines: 12\n",
            "\n",
            "Text: pretest-posttest .\n",
            "\n",
            "\n",
            "label: CONCLUSIONS, Pred: RESULTS, Prob: 0.846433162689209, Line number: 8, Total lines: 10\n",
            "\n",
            "Text: pdt was associated with a significant decrease in bleeding scores ( p = 0.02 ) as well as inflammatory exudation ( p = 0.001 ) .\n",
            "\n",
            "\n",
            "label: RESULTS, Pred: METHODS, Prob: 0.8463104367256165, Line number: 5, Total lines: 15\n",
            "\n",
            "Text: this two-group online individually randomised controlled trial recruited employees from a uk-based private sector organisation ( approx .\n",
            "\n",
            "\n",
            "label: METHODS, Pred: RESULTS, Prob: 0.8447808623313904, Line number: 6, Total lines: 8\n",
            "\n",
            "Text: at this time , an as40 response was achieved by 22 ( 73.3 % ) and 2 ( 20 % ) patients in groups 1 and 2 , respectively ( p < 0.05 for all ) .\n",
            "\n",
            "\n",
            "label: CONCLUSIONS, Pred: RESULTS, Prob: 0.8423702120780945, Line number: 10, Total lines: 15\n",
            "\n",
            "Text: time until stable health status , length of catheterisation , and length of hospital stay were superior with xps ( p < 0.001 ) .\n",
            "\n",
            "\n",
            "label: METHODS, Pred: CONCLUSIONS, Prob: 0.8423541188240051, Line number: 12, Total lines: 12\n",
            "\n",
            "Text: this study provides class ii evidence that regular aerobic training with or without postexercise protein-carbohydrate supplementation improves fitness and workload in patients with fshd .\n",
            "\n",
            "\n",
            "label: RESULTS, Pred: METHODS, Prob: 0.8414304256439209, Line number: 7, Total lines: 18\n",
            "\n",
            "Text: adaptive game mechanics resent questions in 12 or 24 days if answered incorrectly or correctly , respectively .\n",
            "\n",
            "\n",
            "label: BACKGROUND, Pred: OBJECTIVE, Prob: 0.8414044380187988, Line number: 1, Total lines: 9\n",
            "\n",
            "Text: to examine bowel wall edema development in laparoscopic and open major visceral surgery .\n",
            "\n",
            "\n",
            "label: METHODS, Pred: RESULTS, Prob: 0.8381937742233276, Line number: 9, Total lines: 16\n",
            "\n",
            "Text: response rates were high across all follow-ups , and still reached 85 % from mothers and 72 % from fathers at 9 years .\n",
            "\n",
            "\n",
            "label: BACKGROUND, Pred: OBJECTIVE, Prob: 0.8380947113037109, Line number: 1, Total lines: 13\n",
            "\n",
            "Text: to evaluate the effects of the lactic acid bacterium lactobacillus salivarius on caries risk factors .\n",
            "\n",
            "\n",
            "label: CONCLUSIONS, Pred: RESULTS, Prob: 0.8362579345703125, Line number: 7, Total lines: 10\n",
            "\n",
            "Text: total anaerobic counts of bacteria did not differ significantly between patients assigned to receive pdt and those assigned to receive surgical therapy ( mean , 95.2 % and 80.85 % , respectively ) .\n",
            "\n",
            "\n",
            "label: CONCLUSIONS, Pred: RESULTS, Prob: 0.8348001837730408, Line number: 10, Total lines: 13\n",
            "\n",
            "Text: variability was seen in all planes for the movement of both surgical clips .\n",
            "\n",
            "\n",
            "label: RESULTS, Pred: METHODS, Prob: 0.8335637450218201, Line number: 4, Total lines: 15\n",
            "\n",
            "Text: we designed a patient-level , randomized , controlled trial , enrolling adults with above-target bp ( as defined by canadian guidelines ) through community pharmacies , hospitals , or primary care teams in 23 communities in alberta .\n",
            "\n",
            "\n",
            "label: METHODS, Pred: RESULTS, Prob: 0.8334203362464905, Line number: 9, Total lines: 16\n",
            "\n",
            "Text: response rates were 86.9 % to 92.9 % .\n",
            "\n",
            "\n",
            "label: METHODS, Pred: RESULTS, Prob: 0.833306074142456, Line number: 7, Total lines: 8\n",
            "\n",
            "Text: no serious adverse events were recorded .\n",
            "\n",
            "\n",
            "label: RESULTS, Pred: METHODS, Prob: 0.8329885005950928, Line number: 5, Total lines: 14\n",
            "\n",
            "Text: the primary endpoint is the cumulative three-year hiv incidence .\n",
            "\n",
            "\n",
            "label: BACKGROUND, Pred: OBJECTIVE, Prob: 0.8326498866081238, Line number: 1, Total lines: 10\n",
            "\n",
            "Text: to compare the efficacy of the newcastle infant dialysis and ultrafiltration system ( nidus ) with peritoneal dialysis ( pd ) and conventional haemodialysis ( hd ) in infants weighing < 8 kg .\n",
            "\n",
            "\n",
            "label: METHODS, Pred: RESULTS, Prob: 0.832538366317749, Line number: 8, Total lines: 14\n",
            "\n",
            "Text: ankle brachial index ( abi ) was classified as normal ( 0.9-1 .3 ) , mild ( 0.7-0 .9 ) , moderate ( 0.4-0 .69 ) , severe .\n",
            "\n",
            "\n",
            "label: CONCLUSIONS, Pred: RESULTS, Prob: 0.8322792053222656, Line number: 7, Total lines: 12\n",
            "\n",
            "Text: rifampicin significantly increased the mean area under the plasma concentration-time curve ( auc ) of ( r ) - and ( s ) - fexofenadine ( 3.10-fold and 3.48-fold , respectively ) and decreased the renal clearance of ( r ) - and ( s ) - fexofenadine ( 0.40-fold and 0.47-fold , respectively ) , causing marked differences in the mean amounts of these enantiomers excreted into the urine in the rifampicin phase ( p < 0.001 ) .\n",
            "\n",
            "\n",
            "label: BACKGROUND, Pred: RESULTS, Prob: 0.8314575552940369, Line number: 8, Total lines: 11\n",
            "\n",
            "Text: the subgroup that was exposed first to filtered air and 28 days later to ufp did not reveal differences between sessions .\n",
            "\n",
            "\n",
            "label: METHODS, Pred: RESULTS, Prob: 0.8307533860206604, Line number: 5, Total lines: 8\n",
            "\n",
            "Text: results at 12 weeks , the continuous administration group displayed decreases in basdai from 8 to 4 , in asdas from 3.8 to 2.6 , and in hs-crp levels from 9.5 to 3.9 mg/l ; the intermittent administration group exhibited decreases in basdai from 7.6 to 6.0 , in asdas from 3.5 to 3.1 , and hs-crp from 8.8 to 4.5 mg/l ( p < 0.05 ) .\n",
            "\n",
            "\n",
            "label: METHODS, Pred: BACKGROUND, Prob: 0.8301089406013489, Line number: 2, Total lines: 13\n",
            "\n",
            "Text: moorfields eye hospital nhs foundation trust , london , united kingdom .\n",
            "\n",
            "\n"
          ]
        }
      ]
    },
    {
      "cell_type": "code",
      "source": [
        "top_wrongs200=top_wrongs.iloc[:200,:]\n",
        "top_wrongs200.groupby(\"label\").count()"
      ],
      "metadata": {
        "colab": {
          "base_uri": "https://localhost:8080/",
          "height": 235
        },
        "id": "VYbHkhCqDHll",
        "outputId": "b6d20584-d111-4c18-d129-57ea5885f6c2"
      },
      "execution_count": 108,
      "outputs": [
        {
          "output_type": "execute_result",
          "data": {
            "text/html": [
              "\n",
              "  <div id=\"df-b50753a2-9daa-4b01-a7c3-44a5cb329b72\">\n",
              "    <div class=\"colab-df-container\">\n",
              "      <div>\n",
              "<style scoped>\n",
              "    .dataframe tbody tr th:only-of-type {\n",
              "        vertical-align: middle;\n",
              "    }\n",
              "\n",
              "    .dataframe tbody tr th {\n",
              "        vertical-align: top;\n",
              "    }\n",
              "\n",
              "    .dataframe thead th {\n",
              "        text-align: right;\n",
              "    }\n",
              "</style>\n",
              "<table border=\"1\" class=\"dataframe\">\n",
              "  <thead>\n",
              "    <tr style=\"text-align: right;\">\n",
              "      <th></th>\n",
              "      <th>text</th>\n",
              "      <th>line_number</th>\n",
              "      <th>total_lines</th>\n",
              "      <th>prediction</th>\n",
              "      <th>predict_prob</th>\n",
              "      <th>result</th>\n",
              "    </tr>\n",
              "    <tr>\n",
              "      <th>label</th>\n",
              "      <th></th>\n",
              "      <th></th>\n",
              "      <th></th>\n",
              "      <th></th>\n",
              "      <th></th>\n",
              "      <th></th>\n",
              "    </tr>\n",
              "  </thead>\n",
              "  <tbody>\n",
              "    <tr>\n",
              "      <th>BACKGROUND</th>\n",
              "      <td>24</td>\n",
              "      <td>24</td>\n",
              "      <td>24</td>\n",
              "      <td>24</td>\n",
              "      <td>24</td>\n",
              "      <td>24</td>\n",
              "    </tr>\n",
              "    <tr>\n",
              "      <th>CONCLUSIONS</th>\n",
              "      <td>29</td>\n",
              "      <td>29</td>\n",
              "      <td>29</td>\n",
              "      <td>29</td>\n",
              "      <td>29</td>\n",
              "      <td>29</td>\n",
              "    </tr>\n",
              "    <tr>\n",
              "      <th>METHODS</th>\n",
              "      <td>46</td>\n",
              "      <td>46</td>\n",
              "      <td>46</td>\n",
              "      <td>46</td>\n",
              "      <td>46</td>\n",
              "      <td>46</td>\n",
              "    </tr>\n",
              "    <tr>\n",
              "      <th>OBJECTIVE</th>\n",
              "      <td>12</td>\n",
              "      <td>12</td>\n",
              "      <td>12</td>\n",
              "      <td>12</td>\n",
              "      <td>12</td>\n",
              "      <td>12</td>\n",
              "    </tr>\n",
              "    <tr>\n",
              "      <th>RESULTS</th>\n",
              "      <td>89</td>\n",
              "      <td>89</td>\n",
              "      <td>89</td>\n",
              "      <td>89</td>\n",
              "      <td>89</td>\n",
              "      <td>89</td>\n",
              "    </tr>\n",
              "  </tbody>\n",
              "</table>\n",
              "</div>\n",
              "      <button class=\"colab-df-convert\" onclick=\"convertToInteractive('df-b50753a2-9daa-4b01-a7c3-44a5cb329b72')\"\n",
              "              title=\"Convert this dataframe to an interactive table.\"\n",
              "              style=\"display:none;\">\n",
              "        \n",
              "  <svg xmlns=\"http://www.w3.org/2000/svg\" height=\"24px\"viewBox=\"0 0 24 24\"\n",
              "       width=\"24px\">\n",
              "    <path d=\"M0 0h24v24H0V0z\" fill=\"none\"/>\n",
              "    <path d=\"M18.56 5.44l.94 2.06.94-2.06 2.06-.94-2.06-.94-.94-2.06-.94 2.06-2.06.94zm-11 1L8.5 8.5l.94-2.06 2.06-.94-2.06-.94L8.5 2.5l-.94 2.06-2.06.94zm10 10l.94 2.06.94-2.06 2.06-.94-2.06-.94-.94-2.06-.94 2.06-2.06.94z\"/><path d=\"M17.41 7.96l-1.37-1.37c-.4-.4-.92-.59-1.43-.59-.52 0-1.04.2-1.43.59L10.3 9.45l-7.72 7.72c-.78.78-.78 2.05 0 2.83L4 21.41c.39.39.9.59 1.41.59.51 0 1.02-.2 1.41-.59l7.78-7.78 2.81-2.81c.8-.78.8-2.07 0-2.86zM5.41 20L4 18.59l7.72-7.72 1.47 1.35L5.41 20z\"/>\n",
              "  </svg>\n",
              "      </button>\n",
              "      \n",
              "  <style>\n",
              "    .colab-df-container {\n",
              "      display:flex;\n",
              "      flex-wrap:wrap;\n",
              "      gap: 12px;\n",
              "    }\n",
              "\n",
              "    .colab-df-convert {\n",
              "      background-color: #E8F0FE;\n",
              "      border: none;\n",
              "      border-radius: 50%;\n",
              "      cursor: pointer;\n",
              "      display: none;\n",
              "      fill: #1967D2;\n",
              "      height: 32px;\n",
              "      padding: 0 0 0 0;\n",
              "      width: 32px;\n",
              "    }\n",
              "\n",
              "    .colab-df-convert:hover {\n",
              "      background-color: #E2EBFA;\n",
              "      box-shadow: 0px 1px 2px rgba(60, 64, 67, 0.3), 0px 1px 3px 1px rgba(60, 64, 67, 0.15);\n",
              "      fill: #174EA6;\n",
              "    }\n",
              "\n",
              "    [theme=dark] .colab-df-convert {\n",
              "      background-color: #3B4455;\n",
              "      fill: #D2E3FC;\n",
              "    }\n",
              "\n",
              "    [theme=dark] .colab-df-convert:hover {\n",
              "      background-color: #434B5C;\n",
              "      box-shadow: 0px 1px 3px 1px rgba(0, 0, 0, 0.15);\n",
              "      filter: drop-shadow(0px 1px 2px rgba(0, 0, 0, 0.3));\n",
              "      fill: #FFFFFF;\n",
              "    }\n",
              "  </style>\n",
              "\n",
              "      <script>\n",
              "        const buttonEl =\n",
              "          document.querySelector('#df-b50753a2-9daa-4b01-a7c3-44a5cb329b72 button.colab-df-convert');\n",
              "        buttonEl.style.display =\n",
              "          google.colab.kernel.accessAllowed ? 'block' : 'none';\n",
              "\n",
              "        async function convertToInteractive(key) {\n",
              "          const element = document.querySelector('#df-b50753a2-9daa-4b01-a7c3-44a5cb329b72');\n",
              "          const dataTable =\n",
              "            await google.colab.kernel.invokeFunction('convertToInteractive',\n",
              "                                                     [key], {});\n",
              "          if (!dataTable) return;\n",
              "\n",
              "          const docLinkHtml = 'Like what you see? Visit the ' +\n",
              "            '<a target=\"_blank\" href=https://colab.research.google.com/notebooks/data_table.ipynb>data table notebook</a>'\n",
              "            + ' to learn more about interactive tables.';\n",
              "          element.innerHTML = '';\n",
              "          dataTable['output_type'] = 'display_data';\n",
              "          await google.colab.output.renderOutput(dataTable, element);\n",
              "          const docLink = document.createElement('div');\n",
              "          docLink.innerHTML = docLinkHtml;\n",
              "          element.appendChild(docLink);\n",
              "        }\n",
              "      </script>\n",
              "    </div>\n",
              "  </div>\n",
              "  "
            ],
            "text/plain": [
              "             text  line_number  total_lines  prediction  predict_prob  result\n",
              "label                                                                        \n",
              "BACKGROUND     24           24           24          24            24      24\n",
              "CONCLUSIONS    29           29           29          29            29      29\n",
              "METHODS        46           46           46          46            46      46\n",
              "OBJECTIVE      12           12           12          12            12      12\n",
              "RESULTS        89           89           89          89            89      89"
            ]
          },
          "metadata": {},
          "execution_count": 108
        }
      ]
    },
    {
      "cell_type": "code",
      "source": [
        "# out of 46 wrong methods prediction, 33 are incorrectly predicted to be results \n",
        "wrong_methods=top_wrongs200[top_wrongs200.label==\"METHODS\"]\n",
        "wrong_methods[wrong_methods.prediction==\"RESULTS\"].shape"
      ],
      "metadata": {
        "colab": {
          "base_uri": "https://localhost:8080/"
        },
        "id": "o9DZbqxvGGII",
        "outputId": "7ad725b4-33a8-42f8-da79-34a54fc67d5e"
      },
      "execution_count": 114,
      "outputs": [
        {
          "output_type": "execute_result",
          "data": {
            "text/plain": [
              "(33, 7)"
            ]
          },
          "metadata": {},
          "execution_count": 114
        }
      ]
    },
    {
      "cell_type": "code",
      "source": [
        "# out of 89 wrong results prediction, 88 are incorrectly predicted to be results \n",
        "wrong_result=top_wrongs200[top_wrongs200.label==\"RESULTS\"]\n",
        "wrong_result[wrong_result.prediction==\"METHODS\"].shape"
      ],
      "metadata": {
        "colab": {
          "base_uri": "https://localhost:8080/"
        },
        "id": "lAVWSO32JqeK",
        "outputId": "229ef209-1a6f-4c06-ecf0-cf0d0884f999"
      },
      "execution_count": 115,
      "outputs": [
        {
          "output_type": "execute_result",
          "data": {
            "text/plain": [
              "(88, 7)"
            ]
          },
          "metadata": {},
          "execution_count": 115
        }
      ]
    },
    {
      "cell_type": "code",
      "source": [
        "from sklearn.metrics import confusion_matrix, ConfusionMatrixDisplay\n",
        "cm = confusion_matrix(test_df.label, test_predict_classes)\n",
        "disp = ConfusionMatrixDisplay(confusion_matrix=cm, display_labels=class_names)\n",
        "disp.plot()\n",
        "plt.xticks(rotation=\"vertical\")\n",
        "plt.show()"
      ],
      "metadata": {
        "colab": {
          "base_uri": "https://localhost:8080/",
          "height": 341
        },
        "id": "QY15tSv99J61",
        "outputId": "b0b7d8b5-3078-4e55-9a3c-4026fe1bb724"
      },
      "execution_count": 89,
      "outputs": [
        {
          "output_type": "display_data",
          "data": {
            "image/png": "[encoded data removed]",
            "text/plain": [
              "<Figure size 432x288 with 2 Axes>"
            ]
          },
          "metadata": {
            "needs_background": "light"
          }
        }
      ]
    },
    {
      "cell_type": "markdown",
      "source": [
        "# Conclusion "
      ],
      "metadata": {
        "id": "U8KKnJ3CN9uo"
      }
    },
    {
      "cell_type": "markdown",
      "source": [
        "Among all models built, the model with universal sentence encoder, character embedding and positional embedding presents the best performance on PubMed 20k RCT validation data. Its accuracy on PubMed 20k RCT test data is 0.876. The confusion matrix suggests that overall the model has difficulty in classifying objectives from backgrounds. By ranking wrong predictions based on prediction probability, the table shows that the model has difficulty classifying methods from  results. One plausible reason is that the model built is not equipped to fully  learn the surrounding context. For exmple, \"To do\" clause usually means objective, but if that clause appears in the abstract where discusses previous studies, it should be classified as background."
      ],
      "metadata": {
        "id": "Fzleub71OALS"
      }
    },
    {
      "cell_type": "code",
      "source": [
        ""
      ],
      "metadata": {
        "id": "ccwE3I09Ml1h"
      },
      "execution_count": null,
      "outputs": []
    }
  ]
}